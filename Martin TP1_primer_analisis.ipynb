{
  "nbformat": 4,
  "nbformat_minor": 0,
  "metadata": {
    "kernelspec": {
      "display_name": "Python 3",
      "language": "python",
      "name": "python3"
    },
    "language_info": {
      "codemirror_mode": {
        "name": "ipython",
        "version": 3
      },
      "file_extension": ".py",
      "mimetype": "text/x-python",
      "name": "python",
      "nbconvert_exporter": "python",
      "pygments_lexer": "ipython3",
      "version": "3.6.9"
    },
    "colab": {
      "name": "TP1_primer_analisis.ipynb",
      "provenance": [],
      "collapsed_sections": [],
      "include_colab_link": true
    }
  },
  "cells": [
    {
      "cell_type": "markdown",
      "metadata": {
        "id": "view-in-github",
        "colab_type": "text"
      },
      "source": [
        "<a href=\"https://colab.research.google.com/github/gusper01/TP1FIUBA/blob/master/Martin%20TP1_primer_analisis.ipynb\" target=\"_parent\"><img src=\"https://colab.research.google.com/assets/colab-badge.svg\" alt=\"Open In Colab\"/></a>"
      ]
    },
    {
      "cell_type": "markdown",
      "metadata": {
        "id": "46k9H1LFhrAE",
        "colab_type": "text"
      },
      "source": [
        "# <center>**Organización de Datos**"
      ]
    },
    {
      "cell_type": "markdown",
      "metadata": {
        "id": "eGtnzDKShrAI",
        "colab_type": "text"
      },
      "source": [
        "## <Center>**Trabajo Práctico 1** Real or Not? NLP with Disaster Tweets"
      ]
    },
    {
      "cell_type": "markdown",
      "metadata": {
        "id": "o0VU9ZIEhrAN",
        "colab_type": "text"
      },
      "source": [
        "**Objetivo:**  \n",
        "El objetivo del primer TP es realizar un análisis exploratorio del set de datos. Queremos ver qué cosas podemos descubrir sobre los datos que puedan resultar interesantes. Estas cosas pueden estar relacionadas al objetivo del TP2 (predecir si un cierto tweet es real o no) o no,ambas son de interés."
      ]
    },
    {
      "cell_type": "code",
      "metadata": {
        "id": "6UWaXOy6hrAS",
        "colab_type": "code",
        "colab": {}
      },
      "source": [
        "# Importación general de librerías y de visualización\n",
        "import pandas as pd\n",
        "import numpy as np\n",
        "import matplotlib.pyplot as plt\n",
        "import seaborn as sns"
      ],
      "execution_count": 0,
      "outputs": []
    },
    {
      "cell_type": "code",
      "metadata": {
        "id": "8XCOgd5ChrAk",
        "colab_type": "code",
        "outputId": "cae59b75-7b07-43b0-fedc-c1db8c802c2c",
        "colab": {}
      },
      "source": [
        "# Importación del set de datos\n",
        "train_raw = pd.read_csv('/home/martin/Datos/TP1/train.csv')\n",
        "pd.options.display.max_colwidth = 150\n",
        "train_raw.head(10)"
      ],
      "execution_count": 0,
      "outputs": [
        {
          "output_type": "execute_result",
          "data": {
            "text/html": [
              "<div>\n",
              "<style scoped>\n",
              "    .dataframe tbody tr th:only-of-type {\n",
              "        vertical-align: middle;\n",
              "    }\n",
              "\n",
              "    .dataframe tbody tr th {\n",
              "        vertical-align: top;\n",
              "    }\n",
              "\n",
              "    .dataframe thead th {\n",
              "        text-align: right;\n",
              "    }\n",
              "</style>\n",
              "<table border=\"1\" class=\"dataframe\">\n",
              "  <thead>\n",
              "    <tr style=\"text-align: right;\">\n",
              "      <th></th>\n",
              "      <th>id</th>\n",
              "      <th>keyword</th>\n",
              "      <th>location</th>\n",
              "      <th>text</th>\n",
              "      <th>target</th>\n",
              "    </tr>\n",
              "  </thead>\n",
              "  <tbody>\n",
              "    <tr>\n",
              "      <th>0</th>\n",
              "      <td>1</td>\n",
              "      <td>NaN</td>\n",
              "      <td>NaN</td>\n",
              "      <td>Our Deeds are the Reason of this #earthquake May ALLAH Forgive us all</td>\n",
              "      <td>1</td>\n",
              "    </tr>\n",
              "    <tr>\n",
              "      <th>1</th>\n",
              "      <td>4</td>\n",
              "      <td>NaN</td>\n",
              "      <td>NaN</td>\n",
              "      <td>Forest fire near La Ronge Sask. Canada</td>\n",
              "      <td>1</td>\n",
              "    </tr>\n",
              "    <tr>\n",
              "      <th>2</th>\n",
              "      <td>5</td>\n",
              "      <td>NaN</td>\n",
              "      <td>NaN</td>\n",
              "      <td>All residents asked to 'shelter in place' are being notified by officers. No other evacuation or shelter in place orders are expected</td>\n",
              "      <td>1</td>\n",
              "    </tr>\n",
              "    <tr>\n",
              "      <th>3</th>\n",
              "      <td>6</td>\n",
              "      <td>NaN</td>\n",
              "      <td>NaN</td>\n",
              "      <td>13,000 people receive #wildfires evacuation orders in California</td>\n",
              "      <td>1</td>\n",
              "    </tr>\n",
              "    <tr>\n",
              "      <th>4</th>\n",
              "      <td>7</td>\n",
              "      <td>NaN</td>\n",
              "      <td>NaN</td>\n",
              "      <td>Just got sent this photo from Ruby #Alaska as smoke from #wildfires pours into a school</td>\n",
              "      <td>1</td>\n",
              "    </tr>\n",
              "    <tr>\n",
              "      <th>5</th>\n",
              "      <td>8</td>\n",
              "      <td>NaN</td>\n",
              "      <td>NaN</td>\n",
              "      <td>#RockyFire Update =&gt; California Hwy. 20 closed in both directions due to Lake County fire - #CAfire #wildfires</td>\n",
              "      <td>1</td>\n",
              "    </tr>\n",
              "    <tr>\n",
              "      <th>6</th>\n",
              "      <td>10</td>\n",
              "      <td>NaN</td>\n",
              "      <td>NaN</td>\n",
              "      <td>#flood #disaster Heavy rain causes flash flooding of streets in Manitou, Colorado Springs areas</td>\n",
              "      <td>1</td>\n",
              "    </tr>\n",
              "    <tr>\n",
              "      <th>7</th>\n",
              "      <td>13</td>\n",
              "      <td>NaN</td>\n",
              "      <td>NaN</td>\n",
              "      <td>I'm on top of the hill and I can see a fire in the woods...</td>\n",
              "      <td>1</td>\n",
              "    </tr>\n",
              "    <tr>\n",
              "      <th>8</th>\n",
              "      <td>14</td>\n",
              "      <td>NaN</td>\n",
              "      <td>NaN</td>\n",
              "      <td>There's an emergency evacuation happening now in the building across the street</td>\n",
              "      <td>1</td>\n",
              "    </tr>\n",
              "    <tr>\n",
              "      <th>9</th>\n",
              "      <td>15</td>\n",
              "      <td>NaN</td>\n",
              "      <td>NaN</td>\n",
              "      <td>I'm afraid that the tornado is coming to our area...</td>\n",
              "      <td>1</td>\n",
              "    </tr>\n",
              "  </tbody>\n",
              "</table>\n",
              "</div>"
            ],
            "text/plain": [
              "   id keyword location  \\\n",
              "0   1     NaN      NaN   \n",
              "1   4     NaN      NaN   \n",
              "2   5     NaN      NaN   \n",
              "3   6     NaN      NaN   \n",
              "4   7     NaN      NaN   \n",
              "5   8     NaN      NaN   \n",
              "6  10     NaN      NaN   \n",
              "7  13     NaN      NaN   \n",
              "8  14     NaN      NaN   \n",
              "9  15     NaN      NaN   \n",
              "\n",
              "                                                                                                                                    text  \\\n",
              "0                                                                  Our Deeds are the Reason of this #earthquake May ALLAH Forgive us all   \n",
              "1                                                                                                 Forest fire near La Ronge Sask. Canada   \n",
              "2  All residents asked to 'shelter in place' are being notified by officers. No other evacuation or shelter in place orders are expected   \n",
              "3                                                                      13,000 people receive #wildfires evacuation orders in California    \n",
              "4                                               Just got sent this photo from Ruby #Alaska as smoke from #wildfires pours into a school    \n",
              "5                         #RockyFire Update => California Hwy. 20 closed in both directions due to Lake County fire - #CAfire #wildfires   \n",
              "6                                        #flood #disaster Heavy rain causes flash flooding of streets in Manitou, Colorado Springs areas   \n",
              "7                                                                            I'm on top of the hill and I can see a fire in the woods...   \n",
              "8                                                        There's an emergency evacuation happening now in the building across the street   \n",
              "9                                                                                   I'm afraid that the tornado is coming to our area...   \n",
              "\n",
              "   target  \n",
              "0       1  \n",
              "1       1  \n",
              "2       1  \n",
              "3       1  \n",
              "4       1  \n",
              "5       1  \n",
              "6       1  \n",
              "7       1  \n",
              "8       1  \n",
              "9       1  "
            ]
          },
          "metadata": {
            "tags": []
          },
          "execution_count": 118
        }
      ]
    },
    {
      "cell_type": "markdown",
      "metadata": {
        "id": "IIDXQ3jRhrAx",
        "colab_type": "text"
      },
      "source": [
        " "
      ]
    },
    {
      "cell_type": "markdown",
      "metadata": {
        "id": "kdA0ag_ghrAy",
        "colab_type": "text"
      },
      "source": [
        "#### Características del set de datos"
      ]
    },
    {
      "cell_type": "code",
      "metadata": {
        "id": "dESXuiy8hrA1",
        "colab_type": "code",
        "outputId": "7c64ce71-6ecb-4161-d0a7-dd784ea63e8f",
        "colab": {}
      },
      "source": [
        "train_raw.shape"
      ],
      "execution_count": 0,
      "outputs": [
        {
          "output_type": "execute_result",
          "data": {
            "text/plain": [
              "(7613, 5)"
            ]
          },
          "metadata": {
            "tags": []
          },
          "execution_count": 5
        }
      ]
    },
    {
      "cell_type": "code",
      "metadata": {
        "id": "qp8cSXJThrBJ",
        "colab_type": "code",
        "outputId": "16051f9e-c5c5-44ac-a87b-0306d25eb824",
        "colab": {}
      },
      "source": [
        "train_raw.info()"
      ],
      "execution_count": 0,
      "outputs": [
        {
          "output_type": "stream",
          "text": [
            "<class 'pandas.core.frame.DataFrame'>\n",
            "RangeIndex: 7613 entries, 0 to 7612\n",
            "Data columns (total 5 columns):\n",
            " #   Column    Non-Null Count  Dtype \n",
            "---  ------    --------------  ----- \n",
            " 0   id        7613 non-null   int64 \n",
            " 1   keyword   7552 non-null   object\n",
            " 2   location  5080 non-null   object\n",
            " 3   text      7613 non-null   object\n",
            " 4   target    7613 non-null   int64 \n",
            "dtypes: int64(2), object(3)\n",
            "memory usage: 297.5+ KB\n"
          ],
          "name": "stdout"
        }
      ]
    },
    {
      "cell_type": "code",
      "metadata": {
        "id": "mZ9F7jLEhrBS",
        "colab_type": "code",
        "outputId": "2e2a2183-0057-478e-8189-9007b5deee16",
        "colab": {}
      },
      "source": [
        "train_raw['target'].value_counts()"
      ],
      "execution_count": 0,
      "outputs": [
        {
          "output_type": "execute_result",
          "data": {
            "text/plain": [
              "0    4342\n",
              "1    3271\n",
              "Name: target, dtype: int64"
            ]
          },
          "metadata": {
            "tags": []
          },
          "execution_count": 7
        }
      ]
    },
    {
      "cell_type": "code",
      "metadata": {
        "id": "CeuOttBxhrBe",
        "colab_type": "code",
        "outputId": "50ae9ff8-b03e-4069-bdee-1bd53964ef32",
        "colab": {}
      },
      "source": [
        "train_raw.loc[train_raw['target'] == 1, 'keyword'].isna().value_counts(normalize = True)"
      ],
      "execution_count": 0,
      "outputs": [
        {
          "output_type": "execute_result",
          "data": {
            "text/plain": [
              "False    0.98716\n",
              "True     0.01284\n",
              "Name: keyword, dtype: float64"
            ]
          },
          "metadata": {
            "tags": []
          },
          "execution_count": 15
        }
      ]
    },
    {
      "cell_type": "code",
      "metadata": {
        "id": "8cCWyMZDhrBm",
        "colab_type": "code",
        "outputId": "61d3957a-0fd4-42e9-be81-bc60fc6c1092",
        "colab": {}
      },
      "source": [
        "train_raw.loc[:, 'location'].isna().value_counts()"
      ],
      "execution_count": 0,
      "outputs": [
        {
          "output_type": "execute_result",
          "data": {
            "text/plain": [
              "False    5080\n",
              "True     2533\n",
              "Name: location, dtype: int64"
            ]
          },
          "metadata": {
            "tags": []
          },
          "execution_count": 16
        }
      ]
    },
    {
      "cell_type": "code",
      "metadata": {
        "id": "CKVr6Gw9hrBt",
        "colab_type": "code",
        "outputId": "fc018fac-3559-4b26-aa33-28008af37f95",
        "colab": {}
      },
      "source": [
        "train_raw.loc[train_raw['target'] == 0, 'location'].isna().value_counts(normalize = True)"
      ],
      "execution_count": 0,
      "outputs": [
        {
          "output_type": "execute_result",
          "data": {
            "text/plain": [
              "False    0.66421\n",
              "True     0.33579\n",
              "Name: location, dtype: float64"
            ]
          },
          "metadata": {
            "tags": []
          },
          "execution_count": 39
        }
      ]
    },
    {
      "cell_type": "code",
      "metadata": {
        "id": "UXGJzpUrhrB1",
        "colab_type": "code",
        "outputId": "d168312c-dc5a-4cdc-f766-65bb21ed8c8e",
        "colab": {}
      },
      "source": [
        "train_raw.loc[train_raw['target'] == 1, 'location'].isna().value_counts(normalize = True)"
      ],
      "execution_count": 0,
      "outputs": [
        {
          "output_type": "execute_result",
          "data": {
            "text/plain": [
              "False    0.671354\n",
              "True     0.328646\n",
              "Name: location, dtype: float64"
            ]
          },
          "metadata": {
            "tags": []
          },
          "execution_count": 40
        }
      ]
    },
    {
      "cell_type": "markdown",
      "metadata": {
        "id": "7tABIqMUhrB9",
        "colab_type": "text"
      },
      "source": [
        " "
      ]
    },
    {
      "cell_type": "markdown",
      "metadata": {
        "id": "vjJXsxaehrB_",
        "colab_type": "text"
      },
      "source": [
        "#### Limpieza del set de datos"
      ]
    },
    {
      "cell_type": "code",
      "metadata": {
        "id": "-prIBRv9hrCB",
        "colab_type": "code",
        "outputId": "f685a04a-585e-4a89-a9f9-1b55781a82b9",
        "colab": {}
      },
      "source": [
        "train = train_raw.dropna(subset = ['keyword'])\n",
        "train.head(10)"
      ],
      "execution_count": 0,
      "outputs": [
        {
          "output_type": "execute_result",
          "data": {
            "text/html": [
              "<div>\n",
              "<style scoped>\n",
              "    .dataframe tbody tr th:only-of-type {\n",
              "        vertical-align: middle;\n",
              "    }\n",
              "\n",
              "    .dataframe tbody tr th {\n",
              "        vertical-align: top;\n",
              "    }\n",
              "\n",
              "    .dataframe thead th {\n",
              "        text-align: right;\n",
              "    }\n",
              "</style>\n",
              "<table border=\"1\" class=\"dataframe\">\n",
              "  <thead>\n",
              "    <tr style=\"text-align: right;\">\n",
              "      <th></th>\n",
              "      <th>id</th>\n",
              "      <th>keyword</th>\n",
              "      <th>location</th>\n",
              "      <th>text</th>\n",
              "      <th>target</th>\n",
              "    </tr>\n",
              "  </thead>\n",
              "  <tbody>\n",
              "    <tr>\n",
              "      <th>31</th>\n",
              "      <td>48</td>\n",
              "      <td>ablaze</td>\n",
              "      <td>Birmingham</td>\n",
              "      <td>@bbcmtd Wholesale Markets ablaze http://t.co/lHYXEOHY6C</td>\n",
              "      <td>1</td>\n",
              "    </tr>\n",
              "    <tr>\n",
              "      <th>32</th>\n",
              "      <td>49</td>\n",
              "      <td>ablaze</td>\n",
              "      <td>Est. September 2012 - Bristol</td>\n",
              "      <td>We always try to bring the heavy. #metal #RT http://t.co/YAo1e0xngw</td>\n",
              "      <td>0</td>\n",
              "    </tr>\n",
              "    <tr>\n",
              "      <th>33</th>\n",
              "      <td>50</td>\n",
              "      <td>ablaze</td>\n",
              "      <td>AFRICA</td>\n",
              "      <td>#AFRICANBAZE: Breaking news:Nigeria flag set ablaze in Aba. http://t.co/2nndBGwyEi</td>\n",
              "      <td>1</td>\n",
              "    </tr>\n",
              "    <tr>\n",
              "      <th>34</th>\n",
              "      <td>52</td>\n",
              "      <td>ablaze</td>\n",
              "      <td>Philadelphia, PA</td>\n",
              "      <td>Crying out for more! Set me ablaze</td>\n",
              "      <td>0</td>\n",
              "    </tr>\n",
              "    <tr>\n",
              "      <th>35</th>\n",
              "      <td>53</td>\n",
              "      <td>ablaze</td>\n",
              "      <td>London, UK</td>\n",
              "      <td>On plus side LOOK AT THE SKY LAST NIGHT IT WAS ABLAZE http://t.co/qqsmshaJ3N</td>\n",
              "      <td>0</td>\n",
              "    </tr>\n",
              "    <tr>\n",
              "      <th>36</th>\n",
              "      <td>54</td>\n",
              "      <td>ablaze</td>\n",
              "      <td>Pretoria</td>\n",
              "      <td>@PhDSquares #mufc they've built so much hype around new acquisitions but I doubt they will set the EPL ablaze this season.</td>\n",
              "      <td>0</td>\n",
              "    </tr>\n",
              "    <tr>\n",
              "      <th>37</th>\n",
              "      <td>55</td>\n",
              "      <td>ablaze</td>\n",
              "      <td>World Wide!!</td>\n",
              "      <td>INEC Office in Abia Set Ablaze - http://t.co/3ImaomknnA</td>\n",
              "      <td>1</td>\n",
              "    </tr>\n",
              "    <tr>\n",
              "      <th>38</th>\n",
              "      <td>56</td>\n",
              "      <td>ablaze</td>\n",
              "      <td>NaN</td>\n",
              "      <td>Barbados #Bridgetown JAMAICA ÛÒ Two cars set ablaze: SANTA CRUZ ÛÓ Head of the St Elizabeth Police Superintende...  http://t.co/wDUEaj8Q4J</td>\n",
              "      <td>1</td>\n",
              "    </tr>\n",
              "    <tr>\n",
              "      <th>39</th>\n",
              "      <td>57</td>\n",
              "      <td>ablaze</td>\n",
              "      <td>Paranaque City</td>\n",
              "      <td>Ablaze for you Lord :D</td>\n",
              "      <td>0</td>\n",
              "    </tr>\n",
              "    <tr>\n",
              "      <th>40</th>\n",
              "      <td>59</td>\n",
              "      <td>ablaze</td>\n",
              "      <td>Live On Webcam</td>\n",
              "      <td>Check these out: http://t.co/rOI2NSmEJJ http://t.co/3Tj8ZjiN21 http://t.co/YDUiXEfIpE http://t.co/LxTjc87KLS #nsfw</td>\n",
              "      <td>0</td>\n",
              "    </tr>\n",
              "  </tbody>\n",
              "</table>\n",
              "</div>"
            ],
            "text/plain": [
              "    id keyword                       location  \\\n",
              "31  48  ablaze                     Birmingham   \n",
              "32  49  ablaze  Est. September 2012 - Bristol   \n",
              "33  50  ablaze                         AFRICA   \n",
              "34  52  ablaze               Philadelphia, PA   \n",
              "35  53  ablaze                     London, UK   \n",
              "36  54  ablaze                       Pretoria   \n",
              "37  55  ablaze                   World Wide!!   \n",
              "38  56  ablaze                            NaN   \n",
              "39  57  ablaze                 Paranaque City   \n",
              "40  59  ablaze                 Live On Webcam   \n",
              "\n",
              "                                                                                                                                            text  \\\n",
              "31                                                                                       @bbcmtd Wholesale Markets ablaze http://t.co/lHYXEOHY6C   \n",
              "32                                                                           We always try to bring the heavy. #metal #RT http://t.co/YAo1e0xngw   \n",
              "33                                                            #AFRICANBAZE: Breaking news:Nigeria flag set ablaze in Aba. http://t.co/2nndBGwyEi   \n",
              "34                                                                                                            Crying out for more! Set me ablaze   \n",
              "35                                                                  On plus side LOOK AT THE SKY LAST NIGHT IT WAS ABLAZE http://t.co/qqsmshaJ3N   \n",
              "36                    @PhDSquares #mufc they've built so much hype around new acquisitions but I doubt they will set the EPL ablaze this season.   \n",
              "37                                                                                       INEC Office in Abia Set Ablaze - http://t.co/3ImaomknnA   \n",
              "38  Barbados #Bridgetown JAMAICA ÛÒ Two cars set ablaze: SANTA CRUZ ÛÓ Head of the St Elizabeth Police Superintende...  http://t.co/wDUEaj8Q4J   \n",
              "39                                                                                                                        Ablaze for you Lord :D   \n",
              "40                            Check these out: http://t.co/rOI2NSmEJJ http://t.co/3Tj8ZjiN21 http://t.co/YDUiXEfIpE http://t.co/LxTjc87KLS #nsfw   \n",
              "\n",
              "    target  \n",
              "31       1  \n",
              "32       0  \n",
              "33       1  \n",
              "34       0  \n",
              "35       0  \n",
              "36       0  \n",
              "37       1  \n",
              "38       1  \n",
              "39       0  \n",
              "40       0  "
            ]
          },
          "metadata": {
            "tags": []
          },
          "execution_count": 41
        }
      ]
    },
    {
      "cell_type": "markdown",
      "metadata": {
        "id": "4sjEstfOhrCI",
        "colab_type": "text"
      },
      "source": [
        " "
      ]
    },
    {
      "cell_type": "markdown",
      "metadata": {
        "id": "2wy0df5FhrCK",
        "colab_type": "text"
      },
      "source": [
        "#### Análisis de las keywords"
      ]
    },
    {
      "cell_type": "code",
      "metadata": {
        "id": "f-4ne7ZvhrCM",
        "colab_type": "code",
        "outputId": "bc334d7f-c70b-4347-efec-adf303cdc6c9",
        "colab": {}
      },
      "source": [
        "# Agrupo para contar la recurrencia de cada keyword\n",
        "train_grouped = train.groupby(['target', 'keyword'])['id'].count().to_frame()\n",
        "train_grouped.max()"
      ],
      "execution_count": 0,
      "outputs": [
        {
          "output_type": "execute_result",
          "data": {
            "text/plain": [
              "id    40\n",
              "dtype: int64"
            ]
          },
          "metadata": {
            "tags": []
          },
          "execution_count": 45
        }
      ]
    },
    {
      "cell_type": "code",
      "metadata": {
        "id": "HjOdpmjJhrCW",
        "colab_type": "code",
        "outputId": "a973ccc9-4a3d-4624-be45-6bb0530594db",
        "colab": {}
      },
      "source": [
        "# Siendo 40 la máxima recurrencia de una keyword, tomo 15 como el valor mínimo necesario (?)\n",
        "train_grouped_15 = train_grouped[train_grouped['id'] > 15]\n",
        "\n",
        "# Modifico el formato dejando los target como atributo\n",
        "train_grouped_unstacked = train_grouped_15.unstack(0)\n",
        "train_grouped_unstacked.head()\n",
        "\n",
        "# Me quedo con aquellas keyword que comparten target\n",
        "train_grouped_unstacked = train_grouped_unstacked.dropna()\n",
        "\n",
        "# Doy formato al nombre de las columnas\n",
        "train_grouped_unstacked.columns = ['target: 0', 'target: 1']\n",
        "train_grouped_unstacked.head()"
      ],
      "execution_count": 0,
      "outputs": [
        {
          "output_type": "execute_result",
          "data": {
            "text/html": [
              "<div>\n",
              "<style scoped>\n",
              "    .dataframe tbody tr th:only-of-type {\n",
              "        vertical-align: middle;\n",
              "    }\n",
              "\n",
              "    .dataframe tbody tr th {\n",
              "        vertical-align: top;\n",
              "    }\n",
              "\n",
              "    .dataframe thead th {\n",
              "        text-align: right;\n",
              "    }\n",
              "</style>\n",
              "<table border=\"1\" class=\"dataframe\">\n",
              "  <thead>\n",
              "    <tr style=\"text-align: right;\">\n",
              "      <th></th>\n",
              "      <th>target: 0</th>\n",
              "      <th>target: 1</th>\n",
              "    </tr>\n",
              "    <tr>\n",
              "      <th>keyword</th>\n",
              "      <th></th>\n",
              "      <th></th>\n",
              "    </tr>\n",
              "  </thead>\n",
              "  <tbody>\n",
              "    <tr>\n",
              "      <th>ambulance</th>\n",
              "      <td>18.0</td>\n",
              "      <td>20.0</td>\n",
              "    </tr>\n",
              "    <tr>\n",
              "      <th>bombed</th>\n",
              "      <td>19.0</td>\n",
              "      <td>19.0</td>\n",
              "    </tr>\n",
              "    <tr>\n",
              "      <th>burning%20buildings</th>\n",
              "      <td>16.0</td>\n",
              "      <td>21.0</td>\n",
              "    </tr>\n",
              "    <tr>\n",
              "      <th>collided</th>\n",
              "      <td>17.0</td>\n",
              "      <td>23.0</td>\n",
              "    </tr>\n",
              "    <tr>\n",
              "      <th>damage</th>\n",
              "      <td>22.0</td>\n",
              "      <td>19.0</td>\n",
              "    </tr>\n",
              "  </tbody>\n",
              "</table>\n",
              "</div>"
            ],
            "text/plain": [
              "                     target: 0  target: 1\n",
              "keyword                                  \n",
              "ambulance                 18.0       20.0\n",
              "bombed                    19.0       19.0\n",
              "burning%20buildings       16.0       21.0\n",
              "collided                  17.0       23.0\n",
              "damage                    22.0       19.0"
            ]
          },
          "metadata": {
            "tags": []
          },
          "execution_count": 51
        }
      ]
    },
    {
      "cell_type": "code",
      "metadata": {
        "id": "AXWleF65hrCd",
        "colab_type": "code",
        "outputId": "083d4ec5-dbea-45d2-c2a1-2514d7341192",
        "colab": {}
      },
      "source": [
        "# Le doy caracter porcentual a los atributos para la posterior visualización\n",
        "train_grouped_unstacked['target%: 0'] = train_grouped_unstacked['target: 0']/(train_grouped_unstacked['target: 0'] + train_grouped_unstacked['target: 1'])\n",
        "train_grouped_unstacked['target%: 1'] = train_grouped_unstacked['target: 1']/(train_grouped_unstacked['target: 0'] + train_grouped_unstacked['target: 1'])\n",
        "train_grouped_unstacked.head()"
      ],
      "execution_count": 0,
      "outputs": [
        {
          "output_type": "execute_result",
          "data": {
            "text/html": [
              "<div>\n",
              "<style scoped>\n",
              "    .dataframe tbody tr th:only-of-type {\n",
              "        vertical-align: middle;\n",
              "    }\n",
              "\n",
              "    .dataframe tbody tr th {\n",
              "        vertical-align: top;\n",
              "    }\n",
              "\n",
              "    .dataframe thead th {\n",
              "        text-align: right;\n",
              "    }\n",
              "</style>\n",
              "<table border=\"1\" class=\"dataframe\">\n",
              "  <thead>\n",
              "    <tr style=\"text-align: right;\">\n",
              "      <th></th>\n",
              "      <th>target: 0</th>\n",
              "      <th>target: 1</th>\n",
              "      <th>target%: 0</th>\n",
              "      <th>target%: 1</th>\n",
              "    </tr>\n",
              "    <tr>\n",
              "      <th>keyword</th>\n",
              "      <th></th>\n",
              "      <th></th>\n",
              "      <th></th>\n",
              "      <th></th>\n",
              "    </tr>\n",
              "  </thead>\n",
              "  <tbody>\n",
              "    <tr>\n",
              "      <th>ambulance</th>\n",
              "      <td>18.0</td>\n",
              "      <td>20.0</td>\n",
              "      <td>0.473684</td>\n",
              "      <td>0.526316</td>\n",
              "    </tr>\n",
              "    <tr>\n",
              "      <th>bombed</th>\n",
              "      <td>19.0</td>\n",
              "      <td>19.0</td>\n",
              "      <td>0.500000</td>\n",
              "      <td>0.500000</td>\n",
              "    </tr>\n",
              "    <tr>\n",
              "      <th>burning%20buildings</th>\n",
              "      <td>16.0</td>\n",
              "      <td>21.0</td>\n",
              "      <td>0.432432</td>\n",
              "      <td>0.567568</td>\n",
              "    </tr>\n",
              "    <tr>\n",
              "      <th>collided</th>\n",
              "      <td>17.0</td>\n",
              "      <td>23.0</td>\n",
              "      <td>0.425000</td>\n",
              "      <td>0.575000</td>\n",
              "    </tr>\n",
              "    <tr>\n",
              "      <th>damage</th>\n",
              "      <td>22.0</td>\n",
              "      <td>19.0</td>\n",
              "      <td>0.536585</td>\n",
              "      <td>0.463415</td>\n",
              "    </tr>\n",
              "  </tbody>\n",
              "</table>\n",
              "</div>"
            ],
            "text/plain": [
              "                     target: 0  target: 1  target%: 0  target%: 1\n",
              "keyword                                                          \n",
              "ambulance                 18.0       20.0    0.473684    0.526316\n",
              "bombed                    19.0       19.0    0.500000    0.500000\n",
              "burning%20buildings       16.0       21.0    0.432432    0.567568\n",
              "collided                  17.0       23.0    0.425000    0.575000\n",
              "damage                    22.0       19.0    0.536585    0.463415"
            ]
          },
          "metadata": {
            "tags": []
          },
          "execution_count": 52
        }
      ]
    },
    {
      "cell_type": "code",
      "metadata": {
        "id": "AC1R_cpZhrCm",
        "colab_type": "code",
        "outputId": "695f5e7c-05f5-48a7-d429-00815b89db87",
        "colab": {}
      },
      "source": [
        "# Creo una visualización rápida en la que, para cada palabra, se muestra el aporte de cada uno de los target para llegar al\n",
        "# 100% de la recurrencia\n",
        "fig, ax = plt.subplots(figsize = (18,8))\n",
        "\n",
        "ax.bar(train_grouped_unstacked.index, train_grouped_unstacked['target%: 0'], label = 'Target 0', \n",
        "       width = 1, color = 'lightslategray', edgecolor = 'black')\n",
        "ax.bar(train_grouped_unstacked.index, train_grouped_unstacked['target%: 1'], label = 'Target 1', \n",
        "       bottom = train_grouped_unstacked['target%: 0'], width = 1, color = 'powderblue', edgecolor = 'black')\n",
        "\n",
        "plt.xticks(train_grouped_unstacked.index, rotation='vertical')\n",
        "ax.legend(['Target 0', 'Target 1'])\n",
        "plt.show()"
      ],
      "execution_count": 0,
      "outputs": [
        {
          "output_type": "display_data",
          "data": {
            "image/png": "[encoded data removed]",
            "text/plain": [
              "<Figure size 1296x576 with 1 Axes>"
            ]
          },
          "metadata": {
            "tags": [],
            "needs_background": "light"
          }
        }
      ]
    },
    {
      "cell_type": "code",
      "metadata": {
        "id": "Gr7WocZ6hrCu",
        "colab_type": "code",
        "outputId": "1c9648f9-2e0f-475c-9527-61e8c3738ee1",
        "colab": {}
      },
      "source": [
        "# Algunas palabras que sólo aparecen para target = 0\n",
        "train_keyword_0 = train.loc[train['target'] == 0, 'keyword'].value_counts()\n",
        "train_keyword_0.loc[train_keyword_0 > 15].head(10)"
      ],
      "execution_count": 0,
      "outputs": [
        {
          "output_type": "execute_result",
          "data": {
            "text/plain": [
              "body%20bags    40\n",
              "harm           37\n",
              "armageddon     37\n",
              "wrecked        36\n",
              "ruin           36\n",
              "deluge         36\n",
              "explode        35\n",
              "twister        35\n",
              "siren          35\n",
              "fear           35\n",
              "Name: keyword, dtype: int64"
            ]
          },
          "metadata": {
            "tags": []
          },
          "execution_count": 62
        }
      ]
    },
    {
      "cell_type": "code",
      "metadata": {
        "id": "VDqzy2Y6hrC0",
        "colab_type": "code",
        "outputId": "bd531587-3f1a-4372-cc38-5bfe761c701b",
        "colab": {}
      },
      "source": [
        "# Ídem para target = 0\n",
        "train_keyword_1 = train.loc[train['target'] == 1, 'keyword'].value_counts()\n",
        "train_keyword_1.loc[train_keyword_1 > 15].head(10)"
      ],
      "execution_count": 0,
      "outputs": [
        {
          "output_type": "execute_result",
          "data": {
            "text/plain": [
              "wreckage             39\n",
              "outbreak             39\n",
              "derailment           39\n",
              "debris               37\n",
              "typhoon              37\n",
              "oil%20spill          37\n",
              "rescuers             32\n",
              "evacuated            32\n",
              "suicide%20bombing    32\n",
              "suicide%20bomb       32\n",
              "Name: keyword, dtype: int64"
            ]
          },
          "metadata": {
            "tags": []
          },
          "execution_count": 63
        }
      ]
    },
    {
      "cell_type": "markdown",
      "metadata": {
        "id": "lE7frL7shrC6",
        "colab_type": "text"
      },
      "source": [
        " "
      ]
    },
    {
      "cell_type": "markdown",
      "metadata": {
        "id": "nvrua2VphrC7",
        "colab_type": "text"
      },
      "source": [
        "#### Análisis de caracerísticas propias de los tweets:\n",
        "##### (RT, hashtags, quotations, links, mentions, emojis, etc)"
      ]
    },
    {
      "cell_type": "code",
      "metadata": {
        "id": "Gpc7yThLhrC9",
        "colab_type": "code",
        "outputId": "3c5b1bd5-603f-4dae-d578-5a6427aaaa57",
        "colab": {}
      },
      "source": [
        "# RT\n",
        "train.loc[train['text'].str.contains(r'(#)?RT\\s') == True, 'target'].value_counts(normalize = True)"
      ],
      "execution_count": 0,
      "outputs": [
        {
          "output_type": "stream",
          "text": [
            "/home/martin/.local/lib/python3.6/site-packages/pandas/core/strings.py:1954: UserWarning: This pattern has match groups. To actually get the groups, use str.extract.\n",
            "  return func(self, *args, **kwargs)\n"
          ],
          "name": "stderr"
        },
        {
          "output_type": "execute_result",
          "data": {
            "text/plain": [
              "0    0.515789\n",
              "1    0.484211\n",
              "Name: target, dtype: float64"
            ]
          },
          "metadata": {
            "tags": []
          },
          "execution_count": 69
        }
      ]
    },
    {
      "cell_type": "code",
      "metadata": {
        "id": "HMzMK_kvhrDE",
        "colab_type": "code",
        "outputId": "ed00dd0f-1f52-4592-ddde-7894f551a29c",
        "colab": {}
      },
      "source": [
        "# Hashtags\n",
        "train.loc[train['text'].str.contains(r'\\s#.*') == True, 'target'].value_counts(normalize = True)"
      ],
      "execution_count": 0,
      "outputs": [
        {
          "output_type": "execute_result",
          "data": {
            "text/plain": [
              "0    0.523533\n",
              "1    0.476467\n",
              "Name: target, dtype: float64"
            ]
          },
          "metadata": {
            "tags": []
          },
          "execution_count": 71
        }
      ]
    },
    {
      "cell_type": "code",
      "metadata": {
        "id": "nfcRrsN5hrDM",
        "colab_type": "code",
        "outputId": "e9679268-2b74-4eb6-ccfa-b0077bb186c7",
        "colab": {}
      },
      "source": [
        "# Mentions\n",
        "train.loc[train['text'].str.contains(r'\\s@.*') == True, 'target'].value_counts(normalize = True)"
      ],
      "execution_count": 0,
      "outputs": [
        {
          "output_type": "execute_result",
          "data": {
            "text/plain": [
              "0    0.637931\n",
              "1    0.362069\n",
              "Name: target, dtype: float64"
            ]
          },
          "metadata": {
            "tags": []
          },
          "execution_count": 75
        }
      ]
    },
    {
      "cell_type": "code",
      "metadata": {
        "id": "XbqzaWW_hrDR",
        "colab_type": "code",
        "outputId": "c21dd3cf-8b40-41ab-fed2-7b93ac1a8799",
        "colab": {}
      },
      "source": [
        "# webpages\n",
        "train.loc[train['text'].str.contains(r'https://[a-zA-Z0-9].[a-z]([./a-zA-Z0-9])?') == True, 'target'].value_counts(normalize = True)"
      ],
      "execution_count": 0,
      "outputs": [
        {
          "output_type": "stream",
          "text": [
            "/home/martin/.local/lib/python3.6/site-packages/pandas/core/strings.py:1954: UserWarning: This pattern has match groups. To actually get the groups, use str.extract.\n",
            "  return func(self, *args, **kwargs)\n"
          ],
          "name": "stderr"
        },
        {
          "output_type": "execute_result",
          "data": {
            "text/plain": [
              "0    0.669951\n",
              "1    0.330049\n",
              "Name: target, dtype: float64"
            ]
          },
          "metadata": {
            "tags": []
          },
          "execution_count": 85
        }
      ]
    },
    {
      "cell_type": "code",
      "metadata": {
        "id": "b-YrzSkmhrDZ",
        "colab_type": "code",
        "outputId": "b4beaa2a-2715-48d3-926b-e275600a29e6",
        "colab": {}
      },
      "source": [
        "#emojis: la carita feliz, por ejemplo\n",
        "train.loc[(train['text'].str.contains(r':(-)?\\)') == True), 'target'].value_counts()"
      ],
      "execution_count": 0,
      "outputs": [
        {
          "output_type": "stream",
          "text": [
            "/home/martin/.local/lib/python3.6/site-packages/pandas/core/strings.py:1954: UserWarning: This pattern has match groups. To actually get the groups, use str.extract.\n",
            "  return func(self, *args, **kwargs)\n"
          ],
          "name": "stderr"
        },
        {
          "output_type": "execute_result",
          "data": {
            "text/plain": [
              "0    22\n",
              "1     2\n",
              "Name: target, dtype: int64"
            ]
          },
          "metadata": {
            "tags": []
          },
          "execution_count": 113
        }
      ]
    },
    {
      "cell_type": "code",
      "metadata": {
        "id": "mUjqYN_phrDg",
        "colab_type": "code",
        "outputId": "f2ade6a2-7f03-41e8-eff1-9c3935da5780",
        "colab": {}
      },
      "source": [
        "# Qué dicen los tweets de catástrofes que incluyen la carita feliz?\n",
        "train.loc[(train['text'].str.contains(r':(-)?\\)') == True) & train['target'] == 1]"
      ],
      "execution_count": 0,
      "outputs": [
        {
          "output_type": "stream",
          "text": [
            "/home/martin/.local/lib/python3.6/site-packages/pandas/core/strings.py:1954: UserWarning: This pattern has match groups. To actually get the groups, use str.extract.\n",
            "  return func(self, *args, **kwargs)\n"
          ],
          "name": "stderr"
        },
        {
          "output_type": "execute_result",
          "data": {
            "text/html": [
              "<div>\n",
              "<style scoped>\n",
              "    .dataframe tbody tr th:only-of-type {\n",
              "        vertical-align: middle;\n",
              "    }\n",
              "\n",
              "    .dataframe tbody tr th {\n",
              "        vertical-align: top;\n",
              "    }\n",
              "\n",
              "    .dataframe thead th {\n",
              "        text-align: right;\n",
              "    }\n",
              "</style>\n",
              "<table border=\"1\" class=\"dataframe\">\n",
              "  <thead>\n",
              "    <tr style=\"text-align: right;\">\n",
              "      <th></th>\n",
              "      <th>id</th>\n",
              "      <th>keyword</th>\n",
              "      <th>location</th>\n",
              "      <th>text</th>\n",
              "      <th>target</th>\n",
              "    </tr>\n",
              "  </thead>\n",
              "  <tbody>\n",
              "    <tr>\n",
              "      <th>819</th>\n",
              "      <td>1190</td>\n",
              "      <td>blizzard</td>\n",
              "      <td>Sydney</td>\n",
              "      <td>@Ashayo @MsMiggi Hi Ashayo! I believe there will be VODs on YouTube after the presentation but there is nothing like seeing it live :)</td>\n",
              "      <td>1</td>\n",
              "    </tr>\n",
              "    <tr>\n",
              "      <th>2457</th>\n",
              "      <td>3525</td>\n",
              "      <td>derailment</td>\n",
              "      <td>UK</td>\n",
              "      <td>@Raishimi33 :) well I think that sounds like a fine plan where little derailment is possible so I applaud you :)</td>\n",
              "      <td>1</td>\n",
              "    </tr>\n",
              "  </tbody>\n",
              "</table>\n",
              "</div>"
            ],
            "text/plain": [
              "        id     keyword location  \\\n",
              "819   1190    blizzard   Sydney   \n",
              "2457  3525  derailment       UK   \n",
              "\n",
              "                                                                                                                                        text  \\\n",
              "819   @Ashayo @MsMiggi Hi Ashayo! I believe there will be VODs on YouTube after the presentation but there is nothing like seeing it live :)   \n",
              "2457                        @Raishimi33 :) well I think that sounds like a fine plan where little derailment is possible so I applaud you :)   \n",
              "\n",
              "      target  \n",
              "819        1  \n",
              "2457       1  "
            ]
          },
          "metadata": {
            "tags": []
          },
          "execution_count": 116
        }
      ]
    },
    {
      "cell_type": "code",
      "metadata": {
        "id": "CTmPd04QhrDo",
        "colab_type": "code",
        "outputId": "818f17e5-39d6-4ea8-ebc3-8c838f3350fc",
        "colab": {}
      },
      "source": [
        "#lol\n",
        "train.loc[train['text'].str.contains(r'(lol)|(LOL)|(LoL)') == True, 'target'].value_counts(normalize = True)"
      ],
      "execution_count": 0,
      "outputs": [
        {
          "output_type": "stream",
          "text": [
            "/home/martin/.local/lib/python3.6/site-packages/pandas/core/strings.py:1954: UserWarning: This pattern has match groups. To actually get the groups, use str.extract.\n",
            "  return func(self, *args, **kwargs)\n"
          ],
          "name": "stderr"
        },
        {
          "output_type": "execute_result",
          "data": {
            "text/plain": [
              "0    0.887324\n",
              "1    0.112676\n",
              "Name: target, dtype: float64"
            ]
          },
          "metadata": {
            "tags": []
          },
          "execution_count": 95
        }
      ]
    },
    {
      "cell_type": "code",
      "metadata": {
        "id": "ahT4F6pQhrDy",
        "colab_type": "code",
        "outputId": "7b4aa330-f0aa-4c8b-b1eb-0dac21ff7ea0",
        "colab": {}
      },
      "source": [
        "# Qué dicen los tweets de catástrofes que incluyen la palabra lol?\n",
        "train.loc[(train['text'].str.contains(r'(lol)|(LOL)|(LoL)') == True) & (train['target'] == 1)].head(10)"
      ],
      "execution_count": 0,
      "outputs": [
        {
          "output_type": "stream",
          "text": [
            "/home/martin/.local/lib/python3.6/site-packages/pandas/core/strings.py:1954: UserWarning: This pattern has match groups. To actually get the groups, use str.extract.\n",
            "  return func(self, *args, **kwargs)\n"
          ],
          "name": "stderr"
        },
        {
          "output_type": "execute_result",
          "data": {
            "text/html": [
              "<div>\n",
              "<style scoped>\n",
              "    .dataframe tbody tr th:only-of-type {\n",
              "        vertical-align: middle;\n",
              "    }\n",
              "\n",
              "    .dataframe tbody tr th {\n",
              "        vertical-align: top;\n",
              "    }\n",
              "\n",
              "    .dataframe thead th {\n",
              "        text-align: right;\n",
              "    }\n",
              "</style>\n",
              "<table border=\"1\" class=\"dataframe\">\n",
              "  <thead>\n",
              "    <tr style=\"text-align: right;\">\n",
              "      <th></th>\n",
              "      <th>id</th>\n",
              "      <th>keyword</th>\n",
              "      <th>location</th>\n",
              "      <th>text</th>\n",
              "      <th>target</th>\n",
              "    </tr>\n",
              "  </thead>\n",
              "  <tbody>\n",
              "    <tr>\n",
              "      <th>2128</th>\n",
              "      <td>3056</td>\n",
              "      <td>deaths</td>\n",
              "      <td>Mooseknuckle, Maine</td>\n",
              "      <td>ÛÏ@LOLGOP: 2.2 cases of voter fraud a year. \\nWE NEED NEW LAWS!\\n\\n83 gun deaths a day. \\nWHO ACTUALLY FOLLOWS LAWS AMIRITE?\\n\\n#VRA50Û</td>\n",
              "      <td>1</td>\n",
              "    </tr>\n",
              "    <tr>\n",
              "      <th>2152</th>\n",
              "      <td>3089</td>\n",
              "      <td>deaths</td>\n",
              "      <td>the void, U.S.A</td>\n",
              "      <td>@HighQualityBird a reverse situation (lol I don't know 9/11?) where US civilian deaths were specifically utilized to make a political</td>\n",
              "      <td>1</td>\n",
              "    </tr>\n",
              "    <tr>\n",
              "      <th>5052</th>\n",
              "      <td>7201</td>\n",
              "      <td>natural%20disaster</td>\n",
              "      <td>Canada</td>\n",
              "      <td>@Cali74142290 lol natural disaster/hospital crisis something is needed to get rid of some cast members....</td>\n",
              "      <td>1</td>\n",
              "    </tr>\n",
              "    <tr>\n",
              "      <th>6047</th>\n",
              "      <td>8643</td>\n",
              "      <td>sinkhole</td>\n",
              "      <td>NaN</td>\n",
              "      <td>MRW when a sinkhole opens up beneath my friends and I... #gif #funny #lol #comedy #iFunny #video #image #RT http://t.co/XiYdYfptru</td>\n",
              "      <td>1</td>\n",
              "    </tr>\n",
              "    <tr>\n",
              "      <th>6701</th>\n",
              "      <td>9598</td>\n",
              "      <td>thunder</td>\n",
              "      <td>Baydestrian</td>\n",
              "      <td>suddenly it's off &amp;amp; on gloomy &amp;amp; thunder so loud it shakes the windows? Not ever on the Bay Area. Miss me w/that lol http://t.co/x4eCGGvnSN</td>\n",
              "      <td>1</td>\n",
              "    </tr>\n",
              "    <tr>\n",
              "      <th>6798</th>\n",
              "      <td>9738</td>\n",
              "      <td>tragedy</td>\n",
              "      <td>houston</td>\n",
              "      <td>@itss_selenaluna like a beautiful ass tragedy lol</td>\n",
              "      <td>1</td>\n",
              "    </tr>\n",
              "    <tr>\n",
              "      <th>6913</th>\n",
              "      <td>9912</td>\n",
              "      <td>trouble</td>\n",
              "      <td>YA MOTHA BED</td>\n",
              "      <td>@lucysforsale funny cause my dumb ass was the young one to get n trouble the most lol</td>\n",
              "      <td>1</td>\n",
              "    </tr>\n",
              "    <tr>\n",
              "      <th>7050</th>\n",
              "      <td>10101</td>\n",
              "      <td>typhoon</td>\n",
              "      <td>The Peach State</td>\n",
              "      <td>I think a Typhoon just passed through here lol</td>\n",
              "      <td>1</td>\n",
              "    </tr>\n",
              "  </tbody>\n",
              "</table>\n",
              "</div>"
            ],
            "text/plain": [
              "         id             keyword             location  \\\n",
              "2128   3056              deaths  Mooseknuckle, Maine   \n",
              "2152   3089              deaths      the void, U.S.A   \n",
              "5052   7201  natural%20disaster               Canada   \n",
              "6047   8643            sinkhole                  NaN   \n",
              "6701   9598             thunder          Baydestrian   \n",
              "6798   9738             tragedy              houston   \n",
              "6913   9912             trouble         YA MOTHA BED   \n",
              "7050  10101             typhoon      The Peach State   \n",
              "\n",
              "                                                                                                                                                    text  \\\n",
              "2128          ÛÏ@LOLGOP: 2.2 cases of voter fraud a year. \\nWE NEED NEW LAWS!\\n\\n83 gun deaths a day. \\nWHO ACTUALLY FOLLOWS LAWS AMIRITE?\\n\\n#VRA50Û   \n",
              "2152               @HighQualityBird a reverse situation (lol I don't know 9/11?) where US civilian deaths were specifically utilized to make a political   \n",
              "5052                                          @Cali74142290 lol natural disaster/hospital crisis something is needed to get rid of some cast members....   \n",
              "6047                  MRW when a sinkhole opens up beneath my friends and I... #gif #funny #lol #comedy #iFunny #video #image #RT http://t.co/XiYdYfptru   \n",
              "6701  suddenly it's off &amp; on gloomy &amp; thunder so loud it shakes the windows? Not ever on the Bay Area. Miss me w/that lol http://t.co/x4eCGGvnSN   \n",
              "6798                                                                                                   @itss_selenaluna like a beautiful ass tragedy lol   \n",
              "6913                                                               @lucysforsale funny cause my dumb ass was the young one to get n trouble the most lol   \n",
              "7050                                                                                                      I think a Typhoon just passed through here lol   \n",
              "\n",
              "      target  \n",
              "2128       1  \n",
              "2152       1  \n",
              "5052       1  \n",
              "6047       1  \n",
              "6701       1  \n",
              "6798       1  \n",
              "6913       1  \n",
              "7050       1  "
            ]
          },
          "metadata": {
            "tags": []
          },
          "execution_count": 117
        }
      ]
    },
    {
      "cell_type": "code",
      "metadata": {
        "id": "J8FheLMXhrD6",
        "colab_type": "code",
        "colab": {}
      },
      "source": [
        ""
      ],
      "execution_count": 0,
      "outputs": []
    }
  ]
}