{
  "nbformat": 4,
  "nbformat_minor": 0,
  "metadata": {
    "kernelspec": {
      "display_name": "Python 3",
      "language": "python",
      "name": "python3"
    },
    "language_info": {
      "codemirror_mode": {
        "name": "ipython",
        "version": 3
      },
      "file_extension": ".py",
      "mimetype": "text/x-python",
      "name": "python",
      "nbconvert_exporter": "python",
      "pygments_lexer": "ipython3",
      "version": "3.6.9"
    },
    "colab": {
      "name": "TP1_primer_analisis.ipynb",
      "provenance": [],
      "include_colab_link": true
    }
  },
  "cells": [
    {
      "cell_type": "markdown",
      "metadata": {
        "id": "view-in-github",
        "colab_type": "text"
      },
      "source": [
        "<a href=\"https://colab.research.google.com/github/gusper01/TP1FIUBA/blob/master/TP1_primer_analisisV2.ipynb\" target=\"_parent\"><img src=\"https://colab.research.google.com/assets/colab-badge.svg\" alt=\"Open In Colab\"/></a>"
      ]
    },
    {
      "cell_type": "markdown",
      "metadata": {
        "id": "eXiy7rZ2t-fq",
        "colab_type": "text"
      },
      "source": [
        "# <center>**Organización de Datos**"
      ]
    },
    {
      "cell_type": "markdown",
      "metadata": {
        "id": "hwh7Uvv5t-ft",
        "colab_type": "text"
      },
      "source": [
        "## <Center>**Trabajo Práctico 1** Real or Not? NLP with Disaster Tweets"
      ]
    },
    {
      "cell_type": "markdown",
      "metadata": {
        "id": "3oEOe28at-fv",
        "colab_type": "text"
      },
      "source": [
        "**Objetivo:**  \n",
        "El objetivo del primer TP es realizar un análisis exploratorio del set de datos. Queremos ver quécosas podemos descubrir sobre los datos que puedan resultar interesantes. Estas cosaspueden estar relacionadas al objetivo del TP2 (predecir si un cierto tweet es real o no) o no,ambas son de interés."
      ]
    },
    {
      "cell_type": "markdown",
      "metadata": {
        "id": "pglsYvilt-fx",
        "colab_type": "text"
      },
      "source": [
        "**A tener en cuenta:**\n",
        "\n",
        "1.Calidad del análisis exploratorio: qué tipo de preguntas se hacen y de qué forma seresponden, ¿es la respuesta clara y concisa con respecto a la pregunta formulada?  \n",
        "2. ¿Presenta el grupo un listado de \"insights\" aprendidos sobre los datos en base alanálisis realizado? ¿Es interesante?\n"
      ]
    },
    {
      "cell_type": "code",
      "metadata": {
        "id": "7paDddNht-fz",
        "colab_type": "code",
        "colab": {}
      },
      "source": [
        "# Importación general de librerías y de visualización\n",
        "import pandas as pd\n",
        "import numpy as np\n",
        "import matplotlib.pyplot as plt\n",
        "import seaborn as sns"
      ],
      "execution_count": 0,
      "outputs": []
    },
    {
      "cell_type": "code",
      "metadata": {
        "id": "qEE9rZwOt-f9",
        "colab_type": "code",
        "colab": {},
        "outputId": "7e627caa-e393-4d0a-91c9-ef84b3e66db3"
      },
      "source": [
        "# Importación del set de datos\n",
        "train_raw = pd.read_csv('/home/martin/Datos/TP1/train.csv')\n",
        "pd.options.display.max_colwidth = 150\n",
        "train_raw.head(10)"
      ],
      "execution_count": 0,
      "outputs": [
        {
          "output_type": "execute_result",
          "data": {
            "text/html": [
              "<div>\n",
              "<style scoped>\n",
              "    .dataframe tbody tr th:only-of-type {\n",
              "        vertical-align: middle;\n",
              "    }\n",
              "\n",
              "    .dataframe tbody tr th {\n",
              "        vertical-align: top;\n",
              "    }\n",
              "\n",
              "    .dataframe thead th {\n",
              "        text-align: right;\n",
              "    }\n",
              "</style>\n",
              "<table border=\"1\" class=\"dataframe\">\n",
              "  <thead>\n",
              "    <tr style=\"text-align: right;\">\n",
              "      <th></th>\n",
              "      <th>id</th>\n",
              "      <th>keyword</th>\n",
              "      <th>location</th>\n",
              "      <th>text</th>\n",
              "      <th>target</th>\n",
              "    </tr>\n",
              "  </thead>\n",
              "  <tbody>\n",
              "    <tr>\n",
              "      <th>0</th>\n",
              "      <td>1</td>\n",
              "      <td>NaN</td>\n",
              "      <td>NaN</td>\n",
              "      <td>Our Deeds are the Reason of this #earthquake May ALLAH Forgive us all</td>\n",
              "      <td>1</td>\n",
              "    </tr>\n",
              "    <tr>\n",
              "      <th>1</th>\n",
              "      <td>4</td>\n",
              "      <td>NaN</td>\n",
              "      <td>NaN</td>\n",
              "      <td>Forest fire near La Ronge Sask. Canada</td>\n",
              "      <td>1</td>\n",
              "    </tr>\n",
              "    <tr>\n",
              "      <th>2</th>\n",
              "      <td>5</td>\n",
              "      <td>NaN</td>\n",
              "      <td>NaN</td>\n",
              "      <td>All residents asked to 'shelter in place' are being notified by officers. No other evacuation or shelter in place orders are expected</td>\n",
              "      <td>1</td>\n",
              "    </tr>\n",
              "    <tr>\n",
              "      <th>3</th>\n",
              "      <td>6</td>\n",
              "      <td>NaN</td>\n",
              "      <td>NaN</td>\n",
              "      <td>13,000 people receive #wildfires evacuation orders in California</td>\n",
              "      <td>1</td>\n",
              "    </tr>\n",
              "    <tr>\n",
              "      <th>4</th>\n",
              "      <td>7</td>\n",
              "      <td>NaN</td>\n",
              "      <td>NaN</td>\n",
              "      <td>Just got sent this photo from Ruby #Alaska as smoke from #wildfires pours into a school</td>\n",
              "      <td>1</td>\n",
              "    </tr>\n",
              "    <tr>\n",
              "      <th>5</th>\n",
              "      <td>8</td>\n",
              "      <td>NaN</td>\n",
              "      <td>NaN</td>\n",
              "      <td>#RockyFire Update =&gt; California Hwy. 20 closed in both directions due to Lake County fire - #CAfire #wildfires</td>\n",
              "      <td>1</td>\n",
              "    </tr>\n",
              "    <tr>\n",
              "      <th>6</th>\n",
              "      <td>10</td>\n",
              "      <td>NaN</td>\n",
              "      <td>NaN</td>\n",
              "      <td>#flood #disaster Heavy rain causes flash flooding of streets in Manitou, Colorado Springs areas</td>\n",
              "      <td>1</td>\n",
              "    </tr>\n",
              "    <tr>\n",
              "      <th>7</th>\n",
              "      <td>13</td>\n",
              "      <td>NaN</td>\n",
              "      <td>NaN</td>\n",
              "      <td>I'm on top of the hill and I can see a fire in the woods...</td>\n",
              "      <td>1</td>\n",
              "    </tr>\n",
              "    <tr>\n",
              "      <th>8</th>\n",
              "      <td>14</td>\n",
              "      <td>NaN</td>\n",
              "      <td>NaN</td>\n",
              "      <td>There's an emergency evacuation happening now in the building across the street</td>\n",
              "      <td>1</td>\n",
              "    </tr>\n",
              "    <tr>\n",
              "      <th>9</th>\n",
              "      <td>15</td>\n",
              "      <td>NaN</td>\n",
              "      <td>NaN</td>\n",
              "      <td>I'm afraid that the tornado is coming to our area...</td>\n",
              "      <td>1</td>\n",
              "    </tr>\n",
              "  </tbody>\n",
              "</table>\n",
              "</div>"
            ],
            "text/plain": [
              "   id keyword location  \\\n",
              "0   1     NaN      NaN   \n",
              "1   4     NaN      NaN   \n",
              "2   5     NaN      NaN   \n",
              "3   6     NaN      NaN   \n",
              "4   7     NaN      NaN   \n",
              "5   8     NaN      NaN   \n",
              "6  10     NaN      NaN   \n",
              "7  13     NaN      NaN   \n",
              "8  14     NaN      NaN   \n",
              "9  15     NaN      NaN   \n",
              "\n",
              "                                                                                                                                    text  \\\n",
              "0                                                                  Our Deeds are the Reason of this #earthquake May ALLAH Forgive us all   \n",
              "1                                                                                                 Forest fire near La Ronge Sask. Canada   \n",
              "2  All residents asked to 'shelter in place' are being notified by officers. No other evacuation or shelter in place orders are expected   \n",
              "3                                                                      13,000 people receive #wildfires evacuation orders in California    \n",
              "4                                               Just got sent this photo from Ruby #Alaska as smoke from #wildfires pours into a school    \n",
              "5                         #RockyFire Update => California Hwy. 20 closed in both directions due to Lake County fire - #CAfire #wildfires   \n",
              "6                                        #flood #disaster Heavy rain causes flash flooding of streets in Manitou, Colorado Springs areas   \n",
              "7                                                                            I'm on top of the hill and I can see a fire in the woods...   \n",
              "8                                                        There's an emergency evacuation happening now in the building across the street   \n",
              "9                                                                                   I'm afraid that the tornado is coming to our area...   \n",
              "\n",
              "   target  \n",
              "0       1  \n",
              "1       1  \n",
              "2       1  \n",
              "3       1  \n",
              "4       1  \n",
              "5       1  \n",
              "6       1  \n",
              "7       1  \n",
              "8       1  \n",
              "9       1  "
            ]
          },
          "metadata": {
            "tags": []
          },
          "execution_count": 2
        }
      ]
    },
    {
      "cell_type": "markdown",
      "metadata": {
        "id": "Zkm-gwpAt-gH",
        "colab_type": "text"
      },
      "source": [
        " "
      ]
    },
    {
      "cell_type": "markdown",
      "metadata": {
        "id": "5Ifc1YNlt-gJ",
        "colab_type": "text"
      },
      "source": [
        "#### Características del set de datos"
      ]
    },
    {
      "cell_type": "code",
      "metadata": {
        "id": "z4niIf6At-gK",
        "colab_type": "code",
        "colab": {},
        "outputId": "357b9631-d629-4dee-f35d-ed5cac6dbf3a"
      },
      "source": [
        "train_raw.shape"
      ],
      "execution_count": 0,
      "outputs": [
        {
          "output_type": "execute_result",
          "data": {
            "text/plain": [
              "(7613, 5)"
            ]
          },
          "metadata": {
            "tags": []
          },
          "execution_count": 3
        }
      ]
    },
    {
      "cell_type": "code",
      "metadata": {
        "id": "r7OFPpGtt-gT",
        "colab_type": "code",
        "colab": {},
        "outputId": "3c77393e-797f-4ac9-e02a-f1a7ae9390a0"
      },
      "source": [
        "train_raw.info()"
      ],
      "execution_count": 0,
      "outputs": [
        {
          "output_type": "stream",
          "text": [
            "<class 'pandas.core.frame.DataFrame'>\n",
            "RangeIndex: 7613 entries, 0 to 7612\n",
            "Data columns (total 5 columns):\n",
            " #   Column    Non-Null Count  Dtype \n",
            "---  ------    --------------  ----- \n",
            " 0   id        7613 non-null   int64 \n",
            " 1   keyword   7552 non-null   object\n",
            " 2   location  5080 non-null   object\n",
            " 3   text      7613 non-null   object\n",
            " 4   target    7613 non-null   int64 \n",
            "dtypes: int64(2), object(3)\n",
            "memory usage: 297.5+ KB\n"
          ],
          "name": "stdout"
        }
      ]
    },
    {
      "cell_type": "code",
      "metadata": {
        "id": "y9M7XcNXt-ga",
        "colab_type": "code",
        "colab": {},
        "outputId": "7bc9e720-1249-43f4-e719-e0d6a7d5e331"
      },
      "source": [
        "train_raw['target'].value_counts()"
      ],
      "execution_count": 0,
      "outputs": [
        {
          "output_type": "execute_result",
          "data": {
            "text/plain": [
              "0    4342\n",
              "1    3271\n",
              "Name: target, dtype: int64"
            ]
          },
          "metadata": {
            "tags": []
          },
          "execution_count": 5
        }
      ]
    },
    {
      "cell_type": "code",
      "metadata": {
        "id": "B3dB2WBMt-gj",
        "colab_type": "code",
        "colab": {},
        "outputId": "c56faa18-23b1-4b57-a915-c4153c7725c6"
      },
      "source": [
        "train_raw.loc[train_raw['target'] == 1, 'keyword'].isna().value_counts(normalize = True)"
      ],
      "execution_count": 0,
      "outputs": [
        {
          "output_type": "execute_result",
          "data": {
            "text/plain": [
              "False    0.98716\n",
              "True     0.01284\n",
              "Name: keyword, dtype: float64"
            ]
          },
          "metadata": {
            "tags": []
          },
          "execution_count": 6
        }
      ]
    },
    {
      "cell_type": "code",
      "metadata": {
        "id": "n1cMCAGlt-gr",
        "colab_type": "code",
        "colab": {},
        "outputId": "aade0db4-6ed9-4bbf-d92e-aa89f7e72887"
      },
      "source": [
        "train_raw.loc[:, 'location'].isna().value_counts()"
      ],
      "execution_count": 0,
      "outputs": [
        {
          "output_type": "execute_result",
          "data": {
            "text/plain": [
              "False    5080\n",
              "True     2533\n",
              "Name: location, dtype: int64"
            ]
          },
          "metadata": {
            "tags": []
          },
          "execution_count": 7
        }
      ]
    },
    {
      "cell_type": "code",
      "metadata": {
        "id": "LuNORrS2t-gz",
        "colab_type": "code",
        "colab": {},
        "outputId": "397a3063-7964-40e9-9f51-e039d8d21b9e"
      },
      "source": [
        "train_raw.loc[train_raw['target'] == 0, 'location'].isna().value_counts(normalize = True)"
      ],
      "execution_count": 0,
      "outputs": [
        {
          "output_type": "execute_result",
          "data": {
            "text/plain": [
              "False    0.66421\n",
              "True     0.33579\n",
              "Name: location, dtype: float64"
            ]
          },
          "metadata": {
            "tags": []
          },
          "execution_count": 8
        }
      ]
    },
    {
      "cell_type": "code",
      "metadata": {
        "id": "KIdqTKjyt-g5",
        "colab_type": "code",
        "colab": {},
        "outputId": "f2bdede1-af6e-42be-fbf3-b2d52becb58f"
      },
      "source": [
        "train_raw.loc[train_raw['target'] == 1, 'location'].isna().value_counts(normalize = True)"
      ],
      "execution_count": 0,
      "outputs": [
        {
          "output_type": "execute_result",
          "data": {
            "text/plain": [
              "False    0.671354\n",
              "True     0.328646\n",
              "Name: location, dtype: float64"
            ]
          },
          "metadata": {
            "tags": []
          },
          "execution_count": 9
        }
      ]
    },
    {
      "cell_type": "markdown",
      "metadata": {
        "id": "3UZmOM9Jt-hB",
        "colab_type": "text"
      },
      "source": [
        " "
      ]
    },
    {
      "cell_type": "markdown",
      "metadata": {
        "id": "5imrpcOLt-hC",
        "colab_type": "text"
      },
      "source": [
        "#### Limpieza del set de datos"
      ]
    },
    {
      "cell_type": "code",
      "metadata": {
        "id": "SojdaU58t-hD",
        "colab_type": "code",
        "colab": {},
        "outputId": "62b9ee44-bc51-4512-d5cf-7c5168d1933b"
      },
      "source": [
        "train = train_raw.dropna(subset = ['keyword'])\n",
        "train.head()"
      ],
      "execution_count": 0,
      "outputs": [
        {
          "output_type": "execute_result",
          "data": {
            "text/html": [
              "<div>\n",
              "<style scoped>\n",
              "    .dataframe tbody tr th:only-of-type {\n",
              "        vertical-align: middle;\n",
              "    }\n",
              "\n",
              "    .dataframe tbody tr th {\n",
              "        vertical-align: top;\n",
              "    }\n",
              "\n",
              "    .dataframe thead th {\n",
              "        text-align: right;\n",
              "    }\n",
              "</style>\n",
              "<table border=\"1\" class=\"dataframe\">\n",
              "  <thead>\n",
              "    <tr style=\"text-align: right;\">\n",
              "      <th></th>\n",
              "      <th>id</th>\n",
              "      <th>keyword</th>\n",
              "      <th>location</th>\n",
              "      <th>text</th>\n",
              "      <th>target</th>\n",
              "    </tr>\n",
              "  </thead>\n",
              "  <tbody>\n",
              "    <tr>\n",
              "      <th>31</th>\n",
              "      <td>48</td>\n",
              "      <td>ablaze</td>\n",
              "      <td>Birmingham</td>\n",
              "      <td>@bbcmtd Wholesale Markets ablaze http://t.co/lHYXEOHY6C</td>\n",
              "      <td>1</td>\n",
              "    </tr>\n",
              "    <tr>\n",
              "      <th>32</th>\n",
              "      <td>49</td>\n",
              "      <td>ablaze</td>\n",
              "      <td>Est. September 2012 - Bristol</td>\n",
              "      <td>We always try to bring the heavy. #metal #RT http://t.co/YAo1e0xngw</td>\n",
              "      <td>0</td>\n",
              "    </tr>\n",
              "    <tr>\n",
              "      <th>33</th>\n",
              "      <td>50</td>\n",
              "      <td>ablaze</td>\n",
              "      <td>AFRICA</td>\n",
              "      <td>#AFRICANBAZE: Breaking news:Nigeria flag set ablaze in Aba. http://t.co/2nndBGwyEi</td>\n",
              "      <td>1</td>\n",
              "    </tr>\n",
              "    <tr>\n",
              "      <th>34</th>\n",
              "      <td>52</td>\n",
              "      <td>ablaze</td>\n",
              "      <td>Philadelphia, PA</td>\n",
              "      <td>Crying out for more! Set me ablaze</td>\n",
              "      <td>0</td>\n",
              "    </tr>\n",
              "    <tr>\n",
              "      <th>35</th>\n",
              "      <td>53</td>\n",
              "      <td>ablaze</td>\n",
              "      <td>London, UK</td>\n",
              "      <td>On plus side LOOK AT THE SKY LAST NIGHT IT WAS ABLAZE http://t.co/qqsmshaJ3N</td>\n",
              "      <td>0</td>\n",
              "    </tr>\n",
              "  </tbody>\n",
              "</table>\n",
              "</div>"
            ],
            "text/plain": [
              "    id keyword                       location  \\\n",
              "31  48  ablaze                     Birmingham   \n",
              "32  49  ablaze  Est. September 2012 - Bristol   \n",
              "33  50  ablaze                         AFRICA   \n",
              "34  52  ablaze               Philadelphia, PA   \n",
              "35  53  ablaze                     London, UK   \n",
              "\n",
              "                                                                                  text  \\\n",
              "31                             @bbcmtd Wholesale Markets ablaze http://t.co/lHYXEOHY6C   \n",
              "32                 We always try to bring the heavy. #metal #RT http://t.co/YAo1e0xngw   \n",
              "33  #AFRICANBAZE: Breaking news:Nigeria flag set ablaze in Aba. http://t.co/2nndBGwyEi   \n",
              "34                                                  Crying out for more! Set me ablaze   \n",
              "35        On plus side LOOK AT THE SKY LAST NIGHT IT WAS ABLAZE http://t.co/qqsmshaJ3N   \n",
              "\n",
              "    target  \n",
              "31       1  \n",
              "32       0  \n",
              "33       1  \n",
              "34       0  \n",
              "35       0  "
            ]
          },
          "metadata": {
            "tags": []
          },
          "execution_count": 10
        }
      ]
    },
    {
      "cell_type": "markdown",
      "metadata": {
        "id": "mRv9ayZKt-hM",
        "colab_type": "text"
      },
      "source": [
        " "
      ]
    },
    {
      "cell_type": "markdown",
      "metadata": {
        "id": "5Fu0AV2dt-hN",
        "colab_type": "text"
      },
      "source": [
        "#### Análisis cantidad de palabras"
      ]
    },
    {
      "cell_type": "code",
      "metadata": {
        "id": "YcpGpBFxt-hQ",
        "colab_type": "code",
        "colab": {},
        "outputId": "fef52ad0-1562-437c-be17-3556b42770d0"
      },
      "source": [
        "train_words_qy = train.merge(train['text'].map(lambda x: len(x.split())), on = train['id'], how = 'inner')\n",
        "train_words_qy.drop(columns = ['key_0'], inplace = True)\n",
        "train_words_qy.rename(columns = {'text_x':'text', 'text_y':'words_qy'}, inplace = True)\n",
        "train_words_qy.head()"
      ],
      "execution_count": 0,
      "outputs": [
        {
          "output_type": "execute_result",
          "data": {
            "text/html": [
              "<div>\n",
              "<style scoped>\n",
              "    .dataframe tbody tr th:only-of-type {\n",
              "        vertical-align: middle;\n",
              "    }\n",
              "\n",
              "    .dataframe tbody tr th {\n",
              "        vertical-align: top;\n",
              "    }\n",
              "\n",
              "    .dataframe thead th {\n",
              "        text-align: right;\n",
              "    }\n",
              "</style>\n",
              "<table border=\"1\" class=\"dataframe\">\n",
              "  <thead>\n",
              "    <tr style=\"text-align: right;\">\n",
              "      <th></th>\n",
              "      <th>id</th>\n",
              "      <th>keyword</th>\n",
              "      <th>location</th>\n",
              "      <th>text</th>\n",
              "      <th>target</th>\n",
              "      <th>words_qy</th>\n",
              "    </tr>\n",
              "  </thead>\n",
              "  <tbody>\n",
              "    <tr>\n",
              "      <th>0</th>\n",
              "      <td>48</td>\n",
              "      <td>ablaze</td>\n",
              "      <td>Birmingham</td>\n",
              "      <td>@bbcmtd Wholesale Markets ablaze http://t.co/lHYXEOHY6C</td>\n",
              "      <td>1</td>\n",
              "      <td>5</td>\n",
              "    </tr>\n",
              "    <tr>\n",
              "      <th>1</th>\n",
              "      <td>49</td>\n",
              "      <td>ablaze</td>\n",
              "      <td>Est. September 2012 - Bristol</td>\n",
              "      <td>We always try to bring the heavy. #metal #RT http://t.co/YAo1e0xngw</td>\n",
              "      <td>0</td>\n",
              "      <td>10</td>\n",
              "    </tr>\n",
              "    <tr>\n",
              "      <th>2</th>\n",
              "      <td>50</td>\n",
              "      <td>ablaze</td>\n",
              "      <td>AFRICA</td>\n",
              "      <td>#AFRICANBAZE: Breaking news:Nigeria flag set ablaze in Aba. http://t.co/2nndBGwyEi</td>\n",
              "      <td>1</td>\n",
              "      <td>9</td>\n",
              "    </tr>\n",
              "    <tr>\n",
              "      <th>3</th>\n",
              "      <td>52</td>\n",
              "      <td>ablaze</td>\n",
              "      <td>Philadelphia, PA</td>\n",
              "      <td>Crying out for more! Set me ablaze</td>\n",
              "      <td>0</td>\n",
              "      <td>7</td>\n",
              "    </tr>\n",
              "    <tr>\n",
              "      <th>4</th>\n",
              "      <td>53</td>\n",
              "      <td>ablaze</td>\n",
              "      <td>London, UK</td>\n",
              "      <td>On plus side LOOK AT THE SKY LAST NIGHT IT WAS ABLAZE http://t.co/qqsmshaJ3N</td>\n",
              "      <td>0</td>\n",
              "      <td>13</td>\n",
              "    </tr>\n",
              "  </tbody>\n",
              "</table>\n",
              "</div>"
            ],
            "text/plain": [
              "   id keyword                       location  \\\n",
              "0  48  ablaze                     Birmingham   \n",
              "1  49  ablaze  Est. September 2012 - Bristol   \n",
              "2  50  ablaze                         AFRICA   \n",
              "3  52  ablaze               Philadelphia, PA   \n",
              "4  53  ablaze                     London, UK   \n",
              "\n",
              "                                                                                 text  \\\n",
              "0                             @bbcmtd Wholesale Markets ablaze http://t.co/lHYXEOHY6C   \n",
              "1                 We always try to bring the heavy. #metal #RT http://t.co/YAo1e0xngw   \n",
              "2  #AFRICANBAZE: Breaking news:Nigeria flag set ablaze in Aba. http://t.co/2nndBGwyEi   \n",
              "3                                                  Crying out for more! Set me ablaze   \n",
              "4        On plus side LOOK AT THE SKY LAST NIGHT IT WAS ABLAZE http://t.co/qqsmshaJ3N   \n",
              "\n",
              "   target  words_qy  \n",
              "0       1         5  \n",
              "1       0        10  \n",
              "2       1         9  \n",
              "3       0         7  \n",
              "4       0        13  "
            ]
          },
          "metadata": {
            "tags": []
          },
          "execution_count": 11
        }
      ]
    },
    {
      "cell_type": "code",
      "metadata": {
        "id": "f78HbXZbt-hW",
        "colab_type": "code",
        "colab": {},
        "outputId": "7fbedd11-4811-4fb5-a2e1-a192af462c34"
      },
      "source": [
        "train_words_qy.groupby('target')['words_qy'].agg(['mean', 'max', 'min'])"
      ],
      "execution_count": 0,
      "outputs": [
        {
          "output_type": "execute_result",
          "data": {
            "text/html": [
              "<div>\n",
              "<style scoped>\n",
              "    .dataframe tbody tr th:only-of-type {\n",
              "        vertical-align: middle;\n",
              "    }\n",
              "\n",
              "    .dataframe tbody tr th {\n",
              "        vertical-align: top;\n",
              "    }\n",
              "\n",
              "    .dataframe thead th {\n",
              "        text-align: right;\n",
              "    }\n",
              "</style>\n",
              "<table border=\"1\" class=\"dataframe\">\n",
              "  <thead>\n",
              "    <tr style=\"text-align: right;\">\n",
              "      <th></th>\n",
              "      <th>mean</th>\n",
              "      <th>max</th>\n",
              "      <th>min</th>\n",
              "    </tr>\n",
              "    <tr>\n",
              "      <th>target</th>\n",
              "      <th></th>\n",
              "      <th></th>\n",
              "      <th></th>\n",
              "    </tr>\n",
              "  </thead>\n",
              "  <tbody>\n",
              "    <tr>\n",
              "      <th>0</th>\n",
              "      <td>14.750867</td>\n",
              "      <td>31</td>\n",
              "      <td>1</td>\n",
              "    </tr>\n",
              "    <tr>\n",
              "      <th>1</th>\n",
              "      <td>15.174048</td>\n",
              "      <td>30</td>\n",
              "      <td>2</td>\n",
              "    </tr>\n",
              "  </tbody>\n",
              "</table>\n",
              "</div>"
            ],
            "text/plain": [
              "             mean  max  min\n",
              "target                     \n",
              "0       14.750867   31    1\n",
              "1       15.174048   30    2"
            ]
          },
          "metadata": {
            "tags": []
          },
          "execution_count": 12
        }
      ]
    },
    {
      "cell_type": "code",
      "metadata": {
        "id": "WH2SWYzft-hd",
        "colab_type": "code",
        "colab": {},
        "outputId": "2128010d-2777-4b15-84cc-a3c9aea1c9bb"
      },
      "source": [
        "def f(lista):\n",
        "    serie = pd.Series(lista)\n",
        "    serie_filtrada = serie.str.findall(r'^[a-zA-Z0-9]*$')\n",
        "    return ' '.join(serie_filtrada.str.join('').tolist())\n",
        "    \n",
        "train_text_clean = (train['text'].map(lambda x: x.split())).map(lambda x: f(x))\n",
        "train_text_clean.head(10)"
      ],
      "execution_count": 0,
      "outputs": [
        {
          "output_type": "execute_result",
          "data": {
            "text/plain": [
              "31                                                                       Wholesale Markets ablaze \n",
              "32                                                                  We always try to bring the    \n",
              "33                                                                  Breaking  flag set ablaze in  \n",
              "34                                                                   Crying out for  Set me ablaze\n",
              "35                                          On plus side LOOK AT THE SKY LAST NIGHT IT WAS ABLAZE \n",
              "36       built so much hype around new acquisitions but I doubt they will set the EPL ablaze this \n",
              "37                                                                INEC Office in Abia Set Ablaze  \n",
              "38                  Barbados  JAMAICA  Two cars set  SANTA CRUZ  Head of the St Elizabeth Police  \n",
              "39                                                                            Ablaze for you Lord \n",
              "40                                                                               Check these      \n",
              "Name: text, dtype: object"
            ]
          },
          "metadata": {
            "tags": []
          },
          "execution_count": 13
        }
      ]
    },
    {
      "cell_type": "code",
      "metadata": {
        "id": "DQTKWbhXt-hl",
        "colab_type": "code",
        "colab": {},
        "outputId": "86ca2ffd-4452-443e-8998-02d49811ecaa"
      },
      "source": [
        "train_clean_text = train.merge(train_text_clean, on = train.index, how = 'inner').drop(columns = 'key_0')\n",
        "train_clean_text.rename(columns = {'text_x':'text', 'text_y':'clean_text'}, inplace = True)\n",
        "train_clean_text.head()"
      ],
      "execution_count": 0,
      "outputs": [
        {
          "output_type": "execute_result",
          "data": {
            "text/html": [
              "<div>\n",
              "<style scoped>\n",
              "    .dataframe tbody tr th:only-of-type {\n",
              "        vertical-align: middle;\n",
              "    }\n",
              "\n",
              "    .dataframe tbody tr th {\n",
              "        vertical-align: top;\n",
              "    }\n",
              "\n",
              "    .dataframe thead th {\n",
              "        text-align: right;\n",
              "    }\n",
              "</style>\n",
              "<table border=\"1\" class=\"dataframe\">\n",
              "  <thead>\n",
              "    <tr style=\"text-align: right;\">\n",
              "      <th></th>\n",
              "      <th>id</th>\n",
              "      <th>keyword</th>\n",
              "      <th>location</th>\n",
              "      <th>text</th>\n",
              "      <th>target</th>\n",
              "      <th>clean_text</th>\n",
              "    </tr>\n",
              "  </thead>\n",
              "  <tbody>\n",
              "    <tr>\n",
              "      <th>0</th>\n",
              "      <td>48</td>\n",
              "      <td>ablaze</td>\n",
              "      <td>Birmingham</td>\n",
              "      <td>@bbcmtd Wholesale Markets ablaze http://t.co/lHYXEOHY6C</td>\n",
              "      <td>1</td>\n",
              "      <td>Wholesale Markets ablaze</td>\n",
              "    </tr>\n",
              "    <tr>\n",
              "      <th>1</th>\n",
              "      <td>49</td>\n",
              "      <td>ablaze</td>\n",
              "      <td>Est. September 2012 - Bristol</td>\n",
              "      <td>We always try to bring the heavy. #metal #RT http://t.co/YAo1e0xngw</td>\n",
              "      <td>0</td>\n",
              "      <td>We always try to bring the</td>\n",
              "    </tr>\n",
              "    <tr>\n",
              "      <th>2</th>\n",
              "      <td>50</td>\n",
              "      <td>ablaze</td>\n",
              "      <td>AFRICA</td>\n",
              "      <td>#AFRICANBAZE: Breaking news:Nigeria flag set ablaze in Aba. http://t.co/2nndBGwyEi</td>\n",
              "      <td>1</td>\n",
              "      <td>Breaking  flag set ablaze in</td>\n",
              "    </tr>\n",
              "    <tr>\n",
              "      <th>3</th>\n",
              "      <td>52</td>\n",
              "      <td>ablaze</td>\n",
              "      <td>Philadelphia, PA</td>\n",
              "      <td>Crying out for more! Set me ablaze</td>\n",
              "      <td>0</td>\n",
              "      <td>Crying out for  Set me ablaze</td>\n",
              "    </tr>\n",
              "    <tr>\n",
              "      <th>4</th>\n",
              "      <td>53</td>\n",
              "      <td>ablaze</td>\n",
              "      <td>London, UK</td>\n",
              "      <td>On plus side LOOK AT THE SKY LAST NIGHT IT WAS ABLAZE http://t.co/qqsmshaJ3N</td>\n",
              "      <td>0</td>\n",
              "      <td>On plus side LOOK AT THE SKY LAST NIGHT IT WAS ABLAZE</td>\n",
              "    </tr>\n",
              "  </tbody>\n",
              "</table>\n",
              "</div>"
            ],
            "text/plain": [
              "   id keyword                       location  \\\n",
              "0  48  ablaze                     Birmingham   \n",
              "1  49  ablaze  Est. September 2012 - Bristol   \n",
              "2  50  ablaze                         AFRICA   \n",
              "3  52  ablaze               Philadelphia, PA   \n",
              "4  53  ablaze                     London, UK   \n",
              "\n",
              "                                                                                 text  \\\n",
              "0                             @bbcmtd Wholesale Markets ablaze http://t.co/lHYXEOHY6C   \n",
              "1                 We always try to bring the heavy. #metal #RT http://t.co/YAo1e0xngw   \n",
              "2  #AFRICANBAZE: Breaking news:Nigeria flag set ablaze in Aba. http://t.co/2nndBGwyEi   \n",
              "3                                                  Crying out for more! Set me ablaze   \n",
              "4        On plus side LOOK AT THE SKY LAST NIGHT IT WAS ABLAZE http://t.co/qqsmshaJ3N   \n",
              "\n",
              "   target                                              clean_text  \n",
              "0       1                               Wholesale Markets ablaze   \n",
              "1       0                          We always try to bring the      \n",
              "2       1                          Breaking  flag set ablaze in    \n",
              "3       0                           Crying out for  Set me ablaze  \n",
              "4       0  On plus side LOOK AT THE SKY LAST NIGHT IT WAS ABLAZE   "
            ]
          },
          "metadata": {
            "tags": []
          },
          "execution_count": 14
        }
      ]
    },
    {
      "cell_type": "code",
      "metadata": {
        "id": "tzDC6xiyt-hs",
        "colab_type": "code",
        "colab": {},
        "outputId": "acf4fb62-c2bf-4e21-9622-75eb84c9687b"
      },
      "source": [
        "train_clean_text_words_qy = train_clean_text.merge(train_clean_text['clean_text'].map(lambda x: len(x.split())), on = train_clean_text['id'], how = 'inner')\n",
        "train_clean_text_words_qy.drop(columns = ['key_0', 'text'], inplace = True)\n",
        "train_clean_text_words_qy.rename(columns = {'clean_text_x':'clean_text', 'clean_text_y':'words_qy'}, inplace = True)\n",
        "train_clean_text_words_qy.head()"
      ],
      "execution_count": 0,
      "outputs": [
        {
          "output_type": "execute_result",
          "data": {
            "text/html": [
              "<div>\n",
              "<style scoped>\n",
              "    .dataframe tbody tr th:only-of-type {\n",
              "        vertical-align: middle;\n",
              "    }\n",
              "\n",
              "    .dataframe tbody tr th {\n",
              "        vertical-align: top;\n",
              "    }\n",
              "\n",
              "    .dataframe thead th {\n",
              "        text-align: right;\n",
              "    }\n",
              "</style>\n",
              "<table border=\"1\" class=\"dataframe\">\n",
              "  <thead>\n",
              "    <tr style=\"text-align: right;\">\n",
              "      <th></th>\n",
              "      <th>id</th>\n",
              "      <th>keyword</th>\n",
              "      <th>location</th>\n",
              "      <th>target</th>\n",
              "      <th>clean_text</th>\n",
              "      <th>words_qy</th>\n",
              "    </tr>\n",
              "  </thead>\n",
              "  <tbody>\n",
              "    <tr>\n",
              "      <th>0</th>\n",
              "      <td>48</td>\n",
              "      <td>ablaze</td>\n",
              "      <td>Birmingham</td>\n",
              "      <td>1</td>\n",
              "      <td>Wholesale Markets ablaze</td>\n",
              "      <td>3</td>\n",
              "    </tr>\n",
              "    <tr>\n",
              "      <th>1</th>\n",
              "      <td>49</td>\n",
              "      <td>ablaze</td>\n",
              "      <td>Est. September 2012 - Bristol</td>\n",
              "      <td>0</td>\n",
              "      <td>We always try to bring the</td>\n",
              "      <td>6</td>\n",
              "    </tr>\n",
              "    <tr>\n",
              "      <th>2</th>\n",
              "      <td>50</td>\n",
              "      <td>ablaze</td>\n",
              "      <td>AFRICA</td>\n",
              "      <td>1</td>\n",
              "      <td>Breaking  flag set ablaze in</td>\n",
              "      <td>5</td>\n",
              "    </tr>\n",
              "    <tr>\n",
              "      <th>3</th>\n",
              "      <td>52</td>\n",
              "      <td>ablaze</td>\n",
              "      <td>Philadelphia, PA</td>\n",
              "      <td>0</td>\n",
              "      <td>Crying out for  Set me ablaze</td>\n",
              "      <td>6</td>\n",
              "    </tr>\n",
              "    <tr>\n",
              "      <th>4</th>\n",
              "      <td>53</td>\n",
              "      <td>ablaze</td>\n",
              "      <td>London, UK</td>\n",
              "      <td>0</td>\n",
              "      <td>On plus side LOOK AT THE SKY LAST NIGHT IT WAS ABLAZE</td>\n",
              "      <td>12</td>\n",
              "    </tr>\n",
              "  </tbody>\n",
              "</table>\n",
              "</div>"
            ],
            "text/plain": [
              "   id keyword                       location  target  \\\n",
              "0  48  ablaze                     Birmingham       1   \n",
              "1  49  ablaze  Est. September 2012 - Bristol       0   \n",
              "2  50  ablaze                         AFRICA       1   \n",
              "3  52  ablaze               Philadelphia, PA       0   \n",
              "4  53  ablaze                     London, UK       0   \n",
              "\n",
              "                                               clean_text  words_qy  \n",
              "0                               Wholesale Markets ablaze          3  \n",
              "1                          We always try to bring the             6  \n",
              "2                          Breaking  flag set ablaze in           5  \n",
              "3                           Crying out for  Set me ablaze         6  \n",
              "4  On plus side LOOK AT THE SKY LAST NIGHT IT WAS ABLAZE         12  "
            ]
          },
          "metadata": {
            "tags": []
          },
          "execution_count": 15
        }
      ]
    },
    {
      "cell_type": "code",
      "metadata": {
        "id": "SR9C_lVst-h1",
        "colab_type": "code",
        "colab": {},
        "outputId": "79a5e604-acfe-4333-b0d3-2e87eba05b65"
      },
      "source": [
        "train_clean_text_words_qy.groupby('target')['words_qy'].agg(['mean', 'max', 'min'])"
      ],
      "execution_count": 0,
      "outputs": [
        {
          "output_type": "execute_result",
          "data": {
            "text/html": [
              "<div>\n",
              "<style scoped>\n",
              "    .dataframe tbody tr th:only-of-type {\n",
              "        vertical-align: middle;\n",
              "    }\n",
              "\n",
              "    .dataframe tbody tr th {\n",
              "        vertical-align: top;\n",
              "    }\n",
              "\n",
              "    .dataframe thead th {\n",
              "        text-align: right;\n",
              "    }\n",
              "</style>\n",
              "<table border=\"1\" class=\"dataframe\">\n",
              "  <thead>\n",
              "    <tr style=\"text-align: right;\">\n",
              "      <th></th>\n",
              "      <th>mean</th>\n",
              "      <th>max</th>\n",
              "      <th>min</th>\n",
              "    </tr>\n",
              "    <tr>\n",
              "      <th>target</th>\n",
              "      <th></th>\n",
              "      <th></th>\n",
              "      <th></th>\n",
              "    </tr>\n",
              "  </thead>\n",
              "  <tbody>\n",
              "    <tr>\n",
              "      <th>0</th>\n",
              "      <td>11.469119</td>\n",
              "      <td>30</td>\n",
              "      <td>0</td>\n",
              "    </tr>\n",
              "    <tr>\n",
              "      <th>1</th>\n",
              "      <td>11.666770</td>\n",
              "      <td>28</td>\n",
              "      <td>0</td>\n",
              "    </tr>\n",
              "  </tbody>\n",
              "</table>\n",
              "</div>"
            ],
            "text/plain": [
              "             mean  max  min\n",
              "target                     \n",
              "0       11.469119   30    0\n",
              "1       11.666770   28    0"
            ]
          },
          "metadata": {
            "tags": []
          },
          "execution_count": 16
        }
      ]
    },
    {
      "cell_type": "code",
      "metadata": {
        "id": "0YLLEGAkt-h7",
        "colab_type": "code",
        "colab": {},
        "outputId": "fba1ddfa-ef91-4c49-a32e-a40a15fe7b84"
      },
      "source": [
        "fig, (ax1, ax2) = plt.subplots(nrows = 1, ncols = 2, figsize = (16,8))\n",
        "ax1.hist(train_clean_text_words_qy.groupby('target').get_group(0)['words_qy'], bins = 20)\n",
        "ax2.hist(train_clean_text_words_qy.groupby('target').get_group(1)['words_qy'], bins = 20)\n",
        "plt.show()"
      ],
      "execution_count": 0,
      "outputs": [
        {
          "output_type": "display_data",
          "data": {
            "image/png": "[encoded data removed]",
            "text/plain": [
              "<Figure size 1152x576 with 2 Axes>"
            ]
          },
          "metadata": {
            "tags": [],
            "needs_background": "light"
          }
        }
      ]
    },
    {
      "cell_type": "markdown",
      "metadata": {
        "id": "rRFLq1xVt-iC",
        "colab_type": "text"
      },
      "source": [
        "  "
      ]
    },
    {
      "cell_type": "markdown",
      "metadata": {
        "id": "9J17zQSSt-iD",
        "colab_type": "text"
      },
      "source": [
        "#### Análisis de las keywords"
      ]
    },
    {
      "cell_type": "code",
      "metadata": {
        "id": "vZ6Kj4uwt-iK",
        "colab_type": "code",
        "colab": {},
        "outputId": "c2b8e189-9907-4c3f-e095-3c033900fc19"
      },
      "source": [
        "# Agrupo para contar la recurrencia de cada keyword\n",
        "train_grouped = train.groupby(['target', 'keyword'])['id'].count().to_frame()\n",
        "train_grouped.max()"
      ],
      "execution_count": 0,
      "outputs": [
        {
          "output_type": "execute_result",
          "data": {
            "text/plain": [
              "id    40\n",
              "dtype: int64"
            ]
          },
          "metadata": {
            "tags": []
          },
          "execution_count": 17
        }
      ]
    },
    {
      "cell_type": "code",
      "metadata": {
        "id": "Touwfn94t-iQ",
        "colab_type": "code",
        "colab": {},
        "outputId": "4a60c5a1-a43b-4f6f-cf83-6c1f1caa5430"
      },
      "source": [
        "# Siendo 40 la máxima recurrencia de una keyword, tomo 15 como el valor mínimo necesario (?)\n",
        "train_grouped_15 = train_grouped[train_grouped['id'] > 15]\n",
        "\n",
        "# Modifico el formato dejando los target como atributo\n",
        "train_grouped_unstacked = train_grouped_15.unstack(0)\n",
        "train_grouped_unstacked.head()\n",
        "\n",
        "# Me quedo con aquellas keyword que comparten target\n",
        "train_grouped_unstacked = train_grouped_unstacked.dropna()\n",
        "\n",
        "# Doy formato al nombre de las columnas\n",
        "train_grouped_unstacked.columns = ['target: 0', 'target: 1']\n",
        "train_grouped_unstacked.head()"
      ],
      "execution_count": 0,
      "outputs": [
        {
          "output_type": "execute_result",
          "data": {
            "text/html": [
              "<div>\n",
              "<style scoped>\n",
              "    .dataframe tbody tr th:only-of-type {\n",
              "        vertical-align: middle;\n",
              "    }\n",
              "\n",
              "    .dataframe tbody tr th {\n",
              "        vertical-align: top;\n",
              "    }\n",
              "\n",
              "    .dataframe thead th {\n",
              "        text-align: right;\n",
              "    }\n",
              "</style>\n",
              "<table border=\"1\" class=\"dataframe\">\n",
              "  <thead>\n",
              "    <tr style=\"text-align: right;\">\n",
              "      <th></th>\n",
              "      <th>target: 0</th>\n",
              "      <th>target: 1</th>\n",
              "    </tr>\n",
              "    <tr>\n",
              "      <th>keyword</th>\n",
              "      <th></th>\n",
              "      <th></th>\n",
              "    </tr>\n",
              "  </thead>\n",
              "  <tbody>\n",
              "    <tr>\n",
              "      <th>ambulance</th>\n",
              "      <td>18.0</td>\n",
              "      <td>20.0</td>\n",
              "    </tr>\n",
              "    <tr>\n",
              "      <th>bombed</th>\n",
              "      <td>19.0</td>\n",
              "      <td>19.0</td>\n",
              "    </tr>\n",
              "    <tr>\n",
              "      <th>burning%20buildings</th>\n",
              "      <td>16.0</td>\n",
              "      <td>21.0</td>\n",
              "    </tr>\n",
              "    <tr>\n",
              "      <th>collided</th>\n",
              "      <td>17.0</td>\n",
              "      <td>23.0</td>\n",
              "    </tr>\n",
              "    <tr>\n",
              "      <th>damage</th>\n",
              "      <td>22.0</td>\n",
              "      <td>19.0</td>\n",
              "    </tr>\n",
              "  </tbody>\n",
              "</table>\n",
              "</div>"
            ],
            "text/plain": [
              "                     target: 0  target: 1\n",
              "keyword                                  \n",
              "ambulance                 18.0       20.0\n",
              "bombed                    19.0       19.0\n",
              "burning%20buildings       16.0       21.0\n",
              "collided                  17.0       23.0\n",
              "damage                    22.0       19.0"
            ]
          },
          "metadata": {
            "tags": []
          },
          "execution_count": 18
        }
      ]
    },
    {
      "cell_type": "code",
      "metadata": {
        "id": "pOQhBGh3t-iW",
        "colab_type": "code",
        "colab": {},
        "outputId": "36135892-b641-4a24-f08e-d4e6f12a373f"
      },
      "source": [
        "# Le doy caracter porcentual a los atributos para la posterior visualización\n",
        "train_grouped_unstacked['target%: 0'] = train_grouped_unstacked['target: 0']/(train_grouped_unstacked['target: 0'] + train_grouped_unstacked['target: 1'])\n",
        "train_grouped_unstacked['target%: 1'] = train_grouped_unstacked['target: 1']/(train_grouped_unstacked['target: 0'] + train_grouped_unstacked['target: 1'])\n",
        "train_grouped_unstacked.head()"
      ],
      "execution_count": 0,
      "outputs": [
        {
          "output_type": "execute_result",
          "data": {
            "text/html": [
              "<div>\n",
              "<style scoped>\n",
              "    .dataframe tbody tr th:only-of-type {\n",
              "        vertical-align: middle;\n",
              "    }\n",
              "\n",
              "    .dataframe tbody tr th {\n",
              "        vertical-align: top;\n",
              "    }\n",
              "\n",
              "    .dataframe thead th {\n",
              "        text-align: right;\n",
              "    }\n",
              "</style>\n",
              "<table border=\"1\" class=\"dataframe\">\n",
              "  <thead>\n",
              "    <tr style=\"text-align: right;\">\n",
              "      <th></th>\n",
              "      <th>target: 0</th>\n",
              "      <th>target: 1</th>\n",
              "      <th>target%: 0</th>\n",
              "      <th>target%: 1</th>\n",
              "    </tr>\n",
              "    <tr>\n",
              "      <th>keyword</th>\n",
              "      <th></th>\n",
              "      <th></th>\n",
              "      <th></th>\n",
              "      <th></th>\n",
              "    </tr>\n",
              "  </thead>\n",
              "  <tbody>\n",
              "    <tr>\n",
              "      <th>ambulance</th>\n",
              "      <td>18.0</td>\n",
              "      <td>20.0</td>\n",
              "      <td>0.473684</td>\n",
              "      <td>0.526316</td>\n",
              "    </tr>\n",
              "    <tr>\n",
              "      <th>bombed</th>\n",
              "      <td>19.0</td>\n",
              "      <td>19.0</td>\n",
              "      <td>0.500000</td>\n",
              "      <td>0.500000</td>\n",
              "    </tr>\n",
              "    <tr>\n",
              "      <th>burning%20buildings</th>\n",
              "      <td>16.0</td>\n",
              "      <td>21.0</td>\n",
              "      <td>0.432432</td>\n",
              "      <td>0.567568</td>\n",
              "    </tr>\n",
              "    <tr>\n",
              "      <th>collided</th>\n",
              "      <td>17.0</td>\n",
              "      <td>23.0</td>\n",
              "      <td>0.425000</td>\n",
              "      <td>0.575000</td>\n",
              "    </tr>\n",
              "    <tr>\n",
              "      <th>damage</th>\n",
              "      <td>22.0</td>\n",
              "      <td>19.0</td>\n",
              "      <td>0.536585</td>\n",
              "      <td>0.463415</td>\n",
              "    </tr>\n",
              "  </tbody>\n",
              "</table>\n",
              "</div>"
            ],
            "text/plain": [
              "                     target: 0  target: 1  target%: 0  target%: 1\n",
              "keyword                                                          \n",
              "ambulance                 18.0       20.0    0.473684    0.526316\n",
              "bombed                    19.0       19.0    0.500000    0.500000\n",
              "burning%20buildings       16.0       21.0    0.432432    0.567568\n",
              "collided                  17.0       23.0    0.425000    0.575000\n",
              "damage                    22.0       19.0    0.536585    0.463415"
            ]
          },
          "metadata": {
            "tags": []
          },
          "execution_count": 19
        }
      ]
    },
    {
      "cell_type": "code",
      "metadata": {
        "id": "PEAjIQI3t-ib",
        "colab_type": "code",
        "colab": {},
        "outputId": "12d19363-5615-44c3-9743-b2083f86bc21"
      },
      "source": [
        "# Creo una visualización rápida en la que, para cada palabra, se muestra el aporte de cada uno de los target para llegar al\n",
        "# 100% de la recurrencia\n",
        "fig, ax = plt.subplots(figsize = (18,8))\n",
        "\n",
        "ax.bar(train_grouped_unstacked.index, train_grouped_unstacked['target%: 0'], label = 'Target 0', \n",
        "       width = 1, color = 'lightslategray', edgecolor = 'black')\n",
        "ax.bar(train_grouped_unstacked.index, train_grouped_unstacked['target%: 1'], label = 'Target 1', \n",
        "       bottom = train_grouped_unstacked['target%: 0'], width = 1, color = 'powderblue', edgecolor = 'black')\n",
        "\n",
        "plt.xticks(train_grouped_unstacked.index, rotation='vertical')\n",
        "ax.legend(['Target 0', 'Target 1'])\n",
        "plt.show()"
      ],
      "execution_count": 0,
      "outputs": [
        {
          "output_type": "display_data",
          "data": {
            "image/png": "[encoded data removed]",
            "text/plain": [
              "<Figure size 1296x576 with 1 Axes>"
            ]
          },
          "metadata": {
            "tags": [],
            "needs_background": "light"
          }
        }
      ]
    },
    {
      "cell_type": "code",
      "metadata": {
        "id": "jYRZPLIPt-ih",
        "colab_type": "code",
        "colab": {},
        "outputId": "25123a5d-a4bc-49d3-b3f3-4019a3895154"
      },
      "source": [
        "# Algunas palabras que sólo aparecen para target = 0\n",
        "train_keyword_0 = train.loc[train['target'] == 0, 'keyword'].value_counts()\n",
        "train_keyword_0.loc[train_keyword_0 > 15].head(10)"
      ],
      "execution_count": 0,
      "outputs": [
        {
          "output_type": "execute_result",
          "data": {
            "text/plain": [
              "body%20bags    40\n",
              "armageddon     37\n",
              "harm           37\n",
              "ruin           36\n",
              "wrecked        36\n",
              "deluge         36\n",
              "fear           35\n",
              "twister        35\n",
              "siren          35\n",
              "explode        35\n",
              "Name: keyword, dtype: int64"
            ]
          },
          "metadata": {
            "tags": []
          },
          "execution_count": 21
        }
      ]
    },
    {
      "cell_type": "code",
      "metadata": {
        "id": "4v5spetjt-im",
        "colab_type": "code",
        "colab": {},
        "outputId": "64aa19fd-c5a2-4ef6-e44f-cd841076913d"
      },
      "source": [
        "# Ídem para target = 1\n",
        "train_keyword_1 = train.loc[train['target'] == 1, 'keyword'].value_counts()\n",
        "train_keyword_1.loc[train_keyword_1 > 15].head(10)"
      ],
      "execution_count": 0,
      "outputs": [
        {
          "output_type": "execute_result",
          "data": {
            "text/plain": [
              "derailment           39\n",
              "outbreak             39\n",
              "wreckage             39\n",
              "debris               37\n",
              "oil%20spill          37\n",
              "typhoon              37\n",
              "suicide%20bombing    32\n",
              "suicide%20bomb       32\n",
              "evacuated            32\n",
              "rescuers             32\n",
              "Name: keyword, dtype: int64"
            ]
          },
          "metadata": {
            "tags": []
          },
          "execution_count": 22
        }
      ]
    },
    {
      "cell_type": "code",
      "metadata": {
        "id": "I2uWdPRrt-iu",
        "colab_type": "code",
        "colab": {},
        "outputId": "26f5089b-9aa7-4a71-f77f-45b579c26dfd"
      },
      "source": [
        "train.loc[(train['target'] == 1) & (train['keyword'] == 'derailment')]"
      ],
      "execution_count": 0,
      "outputs": [
        {
          "output_type": "execute_result",
          "data": {
            "text/html": [
              "<div>\n",
              "<style scoped>\n",
              "    .dataframe tbody tr th:only-of-type {\n",
              "        vertical-align: middle;\n",
              "    }\n",
              "\n",
              "    .dataframe tbody tr th {\n",
              "        vertical-align: top;\n",
              "    }\n",
              "\n",
              "    .dataframe thead th {\n",
              "        text-align: right;\n",
              "    }\n",
              "</style>\n",
              "<table border=\"1\" class=\"dataframe\">\n",
              "  <thead>\n",
              "    <tr style=\"text-align: right;\">\n",
              "      <th></th>\n",
              "      <th>id</th>\n",
              "      <th>keyword</th>\n",
              "      <th>location</th>\n",
              "      <th>text</th>\n",
              "      <th>target</th>\n",
              "    </tr>\n",
              "  </thead>\n",
              "  <tbody>\n",
              "    <tr>\n",
              "      <th>2439</th>\n",
              "      <td>3503</td>\n",
              "      <td>derailment</td>\n",
              "      <td>Mumbai (India)</td>\n",
              "      <td>Madhya Pradesh Train Derailment: Village Youth Saved Many Lives</td>\n",
              "      <td>1</td>\n",
              "    </tr>\n",
              "    <tr>\n",
              "      <th>2440</th>\n",
              "      <td>3504</td>\n",
              "      <td>derailment</td>\n",
              "      <td>Chicago, IL</td>\n",
              "      <td>Service on the Green Line has resumed after an earlier derailment near Garfield with residual delays.</td>\n",
              "      <td>1</td>\n",
              "    </tr>\n",
              "    <tr>\n",
              "      <th>2441</th>\n",
              "      <td>3505</td>\n",
              "      <td>derailment</td>\n",
              "      <td>India</td>\n",
              "      <td>Madhya Pradesh Train Derailment: Village Youth Saved Many Lives</td>\n",
              "      <td>1</td>\n",
              "    </tr>\n",
              "    <tr>\n",
              "      <th>2442</th>\n",
              "      <td>3506</td>\n",
              "      <td>derailment</td>\n",
              "      <td>NaN</td>\n",
              "      <td>Death on Railway track: Why rains cannot take all the blame?: Derailment is not very common. Last year less th... http://t.co/jdkQC12tid</td>\n",
              "      <td>1</td>\n",
              "    </tr>\n",
              "    <tr>\n",
              "      <th>2443</th>\n",
              "      <td>3508</td>\n",
              "      <td>derailment</td>\n",
              "      <td>NaN</td>\n",
              "      <td>#news Madhya Pradesh Train Derailment: Village Youth Saved Many Lives http://t.co/fcTrAWJcYL #til_now #NDTV</td>\n",
              "      <td>1</td>\n",
              "    </tr>\n",
              "    <tr>\n",
              "      <th>2444</th>\n",
              "      <td>3509</td>\n",
              "      <td>derailment</td>\n",
              "      <td>Mumbai</td>\n",
              "      <td>MP trains derailment: Û÷ItÛªs the freakiest of freak accidentsÛª: \\n\\nMP trains derailment: Û÷ItÛªs the freakiest of ... http://t.co/uHXODSc7Wi</td>\n",
              "      <td>1</td>\n",
              "    </tr>\n",
              "    <tr>\n",
              "      <th>2445</th>\n",
              "      <td>3510</td>\n",
              "      <td>derailment</td>\n",
              "      <td>Coimbatore</td>\n",
              "      <td>#TeamFollowBack Madhya Pradesh Train Derailment: Village Youth Saved Many Lives  #FollowBack</td>\n",
              "      <td>1</td>\n",
              "    </tr>\n",
              "    <tr>\n",
              "      <th>2446</th>\n",
              "      <td>3512</td>\n",
              "      <td>derailment</td>\n",
              "      <td>NaN</td>\n",
              "      <td>#ModiMinistry Madhya Pradesh Train Derailment: Village Youth Saved Many Lives http://t.co/YvMpHd0z9X</td>\n",
              "      <td>1</td>\n",
              "    </tr>\n",
              "    <tr>\n",
              "      <th>2447</th>\n",
              "      <td>3513</td>\n",
              "      <td>derailment</td>\n",
              "      <td>Chicago, IL 60607</td>\n",
              "      <td>Still and Box alarm for the train derailment at 61st and Calumet struck out on the orders of 2-1-21. #ChicagoScanner</td>\n",
              "      <td>1</td>\n",
              "    </tr>\n",
              "    <tr>\n",
              "      <th>2448</th>\n",
              "      <td>3514</td>\n",
              "      <td>derailment</td>\n",
              "      <td>Palo Alto, California</td>\n",
              "      <td>Consent Order on cleanup underway at CSX derailment site - Knoxville News Sentinel http://t.co/GieSoMgWTR http://t.co/NMFsgKf1Za</td>\n",
              "      <td>1</td>\n",
              "    </tr>\n",
              "    <tr>\n",
              "      <th>2449</th>\n",
              "      <td>3517</td>\n",
              "      <td>derailment</td>\n",
              "      <td>NaN</td>\n",
              "      <td>Madhya Pradesh Train Derailment: Village Youth Saved Many Lives</td>\n",
              "      <td>1</td>\n",
              "    </tr>\n",
              "    <tr>\n",
              "      <th>2450</th>\n",
              "      <td>3518</td>\n",
              "      <td>derailment</td>\n",
              "      <td>NaN</td>\n",
              "      <td>Madhya Pradesh Train Derailment: Village Youth Saved Many Lives: A group of villagers saved over 70 passengers' lives after two train...</td>\n",
              "      <td>1</td>\n",
              "    </tr>\n",
              "    <tr>\n",
              "      <th>2451</th>\n",
              "      <td>3519</td>\n",
              "      <td>derailment</td>\n",
              "      <td>NaN</td>\n",
              "      <td>MP train derailment: Village youth saved many lives\\nhttp://t.co/lTYeFJdM3A #IndiaTV http://t.co/0La1aw9uUd</td>\n",
              "      <td>1</td>\n",
              "    </tr>\n",
              "    <tr>\n",
              "      <th>2452</th>\n",
              "      <td>3520</td>\n",
              "      <td>derailment</td>\n",
              "      <td>NaN</td>\n",
              "      <td>Madhya Pradesh Train Derailment: Village Youth Saved Many Lives: A group of villagers saved over 70 passengers' lives after two train...</td>\n",
              "      <td>1</td>\n",
              "    </tr>\n",
              "    <tr>\n",
              "      <th>2453</th>\n",
              "      <td>3521</td>\n",
              "      <td>derailment</td>\n",
              "      <td>NaN</td>\n",
              "      <td>@greateranglia I know the cow incident not yr fault by how where they on the line could of caused a derailment</td>\n",
              "      <td>1</td>\n",
              "    </tr>\n",
              "    <tr>\n",
              "      <th>2454</th>\n",
              "      <td>3522</td>\n",
              "      <td>derailment</td>\n",
              "      <td>India</td>\n",
              "      <td>Madhya Pradesh Train Derailment: Village Youth Saved Many Lives</td>\n",
              "      <td>1</td>\n",
              "    </tr>\n",
              "    <tr>\n",
              "      <th>2455</th>\n",
              "      <td>3523</td>\n",
              "      <td>derailment</td>\n",
              "      <td>Chicagoland</td>\n",
              "      <td>CHICAGO FD\\nSTILL &amp;amp; BOX ALARM/EMS PLAN I \\n 61ST &amp;amp; CALUMET FOR THE EL TRAIN DERAILMENT\\nCINS/TG</td>\n",
              "      <td>1</td>\n",
              "    </tr>\n",
              "    <tr>\n",
              "      <th>2456</th>\n",
              "      <td>3524</td>\n",
              "      <td>derailment</td>\n",
              "      <td>NaN</td>\n",
              "      <td>Madhya Pradesh Train Derailment: Village Youth Saved Many Lives: A group of villagers saved over 70 passengers' lives after two train...</td>\n",
              "      <td>1</td>\n",
              "    </tr>\n",
              "    <tr>\n",
              "      <th>2457</th>\n",
              "      <td>3525</td>\n",
              "      <td>derailment</td>\n",
              "      <td>UK</td>\n",
              "      <td>@Raishimi33 :) well I think that sounds like a fine plan where little derailment is possible so I applaud you :)</td>\n",
              "      <td>1</td>\n",
              "    </tr>\n",
              "    <tr>\n",
              "      <th>2458</th>\n",
              "      <td>3526</td>\n",
              "      <td>derailment</td>\n",
              "      <td>India</td>\n",
              "      <td>Railway Minister Prabhu calls MP derailment a natural calamity http://t.co/ocxBWGyFT8</td>\n",
              "      <td>1</td>\n",
              "    </tr>\n",
              "    <tr>\n",
              "      <th>2459</th>\n",
              "      <td>3527</td>\n",
              "      <td>derailment</td>\n",
              "      <td>Mumbai</td>\n",
              "      <td>Latest : Trains derailment: 'It's the freakiest of freak accidents' - The Indian Express: The Indi... http://t.co/iLdbeJe225 #IndianNews</td>\n",
              "      <td>1</td>\n",
              "    </tr>\n",
              "    <tr>\n",
              "      <th>2460</th>\n",
              "      <td>3528</td>\n",
              "      <td>derailment</td>\n",
              "      <td>Los Angeles</td>\n",
              "      <td>@AlvinNelson07 A train isn't made to withstand collisions! Immediate derailment. It's totally fucked.</td>\n",
              "      <td>1</td>\n",
              "    </tr>\n",
              "    <tr>\n",
              "      <th>2461</th>\n",
              "      <td>3529</td>\n",
              "      <td>derailment</td>\n",
              "      <td>NaN</td>\n",
              "      <td>#???? #?? #??? #??? Trains derailment: 'It's the freakiest of freak accidents' - The Indian Express   http://t.co/4Y4YtwhD74</td>\n",
              "      <td>1</td>\n",
              "    </tr>\n",
              "    <tr>\n",
              "      <th>2462</th>\n",
              "      <td>3530</td>\n",
              "      <td>derailment</td>\n",
              "      <td>New Delhi</td>\n",
              "      <td>Suresh Prabhu calls Harda derailment a natural calamity; officials feel warning signs ignored: Prabhu may regr... http://t.co/Q5MlbODVm4</td>\n",
              "      <td>1</td>\n",
              "    </tr>\n",
              "    <tr>\n",
              "      <th>2463</th>\n",
              "      <td>3531</td>\n",
              "      <td>derailment</td>\n",
              "      <td>India</td>\n",
              "      <td>25 killed 50 injured in Madhya Pradesh twin train derailment http://t.co/DNU5HWSxo2</td>\n",
              "      <td>1</td>\n",
              "    </tr>\n",
              "    <tr>\n",
              "      <th>2464</th>\n",
              "      <td>3532</td>\n",
              "      <td>derailment</td>\n",
              "      <td>Mumbai</td>\n",
              "      <td>Mumbai24x7 Helping Hand: In Mumbai 2 TTEs take charge of helpline to calm anxious relatives - The Ind... http://t.co/tUARYIJpqU #Mumbai</td>\n",
              "      <td>1</td>\n",
              "    </tr>\n",
              "    <tr>\n",
              "      <th>2465</th>\n",
              "      <td>3533</td>\n",
              "      <td>derailment</td>\n",
              "      <td>India</td>\n",
              "      <td>Trains derailment: 'It's the freakiest of freak accidents' - The Indian Express http://t.co/cEdCUgEuWs #News  #topstories</td>\n",
              "      <td>1</td>\n",
              "    </tr>\n",
              "    <tr>\n",
              "      <th>2466</th>\n",
              "      <td>3534</td>\n",
              "      <td>derailment</td>\n",
              "      <td>Mumbai</td>\n",
              "      <td>Latest : Trains derailment: 'It's the freakiest of freak accidents' - The Indian Express: The Indi... http://t.co/sjXLlzOSW7 #IndianNews</td>\n",
              "      <td>1</td>\n",
              "    </tr>\n",
              "    <tr>\n",
              "      <th>2467</th>\n",
              "      <td>3535</td>\n",
              "      <td>derailment</td>\n",
              "      <td>NaN</td>\n",
              "      <td>http://t.co/BAGEF9lFGT 25 killed 50 injured in Madhya Pradesh twin train derailment http://t.co/bVxqA3Kfrx</td>\n",
              "      <td>1</td>\n",
              "    </tr>\n",
              "    <tr>\n",
              "      <th>2468</th>\n",
              "      <td>3536</td>\n",
              "      <td>derailment</td>\n",
              "      <td>India</td>\n",
              "      <td>Trains derailment: 'It's the freakiest of freak accidents' - The Indian Express http://t.co/CUVKf5YKAX</td>\n",
              "      <td>1</td>\n",
              "    </tr>\n",
              "    <tr>\n",
              "      <th>2469</th>\n",
              "      <td>3537</td>\n",
              "      <td>derailment</td>\n",
              "      <td>Chicago, IL</td>\n",
              "      <td>PHOTOS: Green Line derailment near Cottage Grove and Garfield: http://t.co/4d9Cd4mnVh http://t.co/UNhqCQ6Bex</td>\n",
              "      <td>1</td>\n",
              "    </tr>\n",
              "    <tr>\n",
              "      <th>2470</th>\n",
              "      <td>3540</td>\n",
              "      <td>derailment</td>\n",
              "      <td>NaN</td>\n",
              "      <td>#ModiMinistry Railway Minister Prabhu calls MP derailment a natural calamity http://t.co/tL41olpAkZ</td>\n",
              "      <td>1</td>\n",
              "    </tr>\n",
              "    <tr>\n",
              "      <th>2471</th>\n",
              "      <td>3542</td>\n",
              "      <td>derailment</td>\n",
              "      <td>Minneapolis,MN,US</td>\n",
              "      <td>Train derailment: In Patna no news of any casualty so far - The Indian Express http://t.co/YH5VETm0YZ http://t.co/17Wgug8z0M</td>\n",
              "      <td>1</td>\n",
              "    </tr>\n",
              "    <tr>\n",
              "      <th>2472</th>\n",
              "      <td>3543</td>\n",
              "      <td>derailment</td>\n",
              "      <td>Chicago</td>\n",
              "      <td>After the green line derailment my concern for track that looks like this goes up a bit... @cta @CTAFails http://t.co/1uDz0NVOEH</td>\n",
              "      <td>1</td>\n",
              "    </tr>\n",
              "    <tr>\n",
              "      <th>2473</th>\n",
              "      <td>3544</td>\n",
              "      <td>derailment</td>\n",
              "      <td>NaN</td>\n",
              "      <td>Very sad to learn of the derailment of 2 trains in Mp.My deepest condolences to the families who lost loved ones in this Mishap @OfficeOfRG</td>\n",
              "      <td>1</td>\n",
              "    </tr>\n",
              "    <tr>\n",
              "      <th>2474</th>\n",
              "      <td>3548</td>\n",
              "      <td>derailment</td>\n",
              "      <td>Chicago, IL</td>\n",
              "      <td>Scene of the derailment.. CTA Green Line at 63rd/Prairie http://t.co/zz5UDiLrea</td>\n",
              "      <td>1</td>\n",
              "    </tr>\n",
              "    <tr>\n",
              "      <th>2475</th>\n",
              "      <td>3549</td>\n",
              "      <td>derailment</td>\n",
              "      <td>Palo Alto, California</td>\n",
              "      <td>Consent Order on cleanup underway at CSX derailment site - Knoxville News Sentinel http://t.co/xsZx9MWXYp http://t.co/NMFsgKf1Za</td>\n",
              "      <td>1</td>\n",
              "    </tr>\n",
              "    <tr>\n",
              "      <th>2476</th>\n",
              "      <td>3550</td>\n",
              "      <td>derailment</td>\n",
              "      <td>India</td>\n",
              "      <td>Helping Hand: In Mumbai 2 TTEs take charge of helpline to calm anxious relatives - The Indian Exp... http://t.co/B9KUylcxg4 MumbaiTimes</td>\n",
              "      <td>1</td>\n",
              "    </tr>\n",
              "    <tr>\n",
              "      <th>2477</th>\n",
              "      <td>3552</td>\n",
              "      <td>derailment</td>\n",
              "      <td>NaN</td>\n",
              "      <td>Madhya Pradesh Train Derailment: Village Youth Saved Many Lives</td>\n",
              "      <td>1</td>\n",
              "    </tr>\n",
              "  </tbody>\n",
              "</table>\n",
              "</div>"
            ],
            "text/plain": [
              "        id     keyword               location  \\\n",
              "2439  3503  derailment         Mumbai (India)   \n",
              "2440  3504  derailment            Chicago, IL   \n",
              "2441  3505  derailment                  India   \n",
              "2442  3506  derailment                    NaN   \n",
              "2443  3508  derailment                    NaN   \n",
              "2444  3509  derailment                 Mumbai   \n",
              "2445  3510  derailment             Coimbatore   \n",
              "2446  3512  derailment                    NaN   \n",
              "2447  3513  derailment      Chicago, IL 60607   \n",
              "2448  3514  derailment  Palo Alto, California   \n",
              "2449  3517  derailment                    NaN   \n",
              "2450  3518  derailment                    NaN   \n",
              "2451  3519  derailment                    NaN   \n",
              "2452  3520  derailment                    NaN   \n",
              "2453  3521  derailment                    NaN   \n",
              "2454  3522  derailment                  India   \n",
              "2455  3523  derailment            Chicagoland   \n",
              "2456  3524  derailment                    NaN   \n",
              "2457  3525  derailment                     UK   \n",
              "2458  3526  derailment                  India   \n",
              "2459  3527  derailment                 Mumbai   \n",
              "2460  3528  derailment            Los Angeles   \n",
              "2461  3529  derailment                    NaN   \n",
              "2462  3530  derailment              New Delhi   \n",
              "2463  3531  derailment                  India   \n",
              "2464  3532  derailment                 Mumbai   \n",
              "2465  3533  derailment                  India   \n",
              "2466  3534  derailment                 Mumbai   \n",
              "2467  3535  derailment                    NaN   \n",
              "2468  3536  derailment                  India   \n",
              "2469  3537  derailment            Chicago, IL   \n",
              "2470  3540  derailment                    NaN   \n",
              "2471  3542  derailment      Minneapolis,MN,US   \n",
              "2472  3543  derailment                Chicago   \n",
              "2473  3544  derailment                    NaN   \n",
              "2474  3548  derailment           Chicago, IL    \n",
              "2475  3549  derailment  Palo Alto, California   \n",
              "2476  3550  derailment                  India   \n",
              "2477  3552  derailment                    NaN   \n",
              "\n",
              "                                                                                                                                                      text  \\\n",
              "2439                                                                                       Madhya Pradesh Train Derailment: Village Youth Saved Many Lives   \n",
              "2440                                                 Service on the Green Line has resumed after an earlier derailment near Garfield with residual delays.   \n",
              "2441                                                                                       Madhya Pradesh Train Derailment: Village Youth Saved Many Lives   \n",
              "2442              Death on Railway track: Why rains cannot take all the blame?: Derailment is not very common. Last year less th... http://t.co/jdkQC12tid   \n",
              "2443                                           #news Madhya Pradesh Train Derailment: Village Youth Saved Many Lives http://t.co/fcTrAWJcYL #til_now #NDTV   \n",
              "2444  MP trains derailment: Û÷ItÛªs the freakiest of freak accidentsÛª: \\n\\nMP trains derailment: Û÷ItÛªs the freakiest of ... http://t.co/uHXODSc7Wi   \n",
              "2445                                                          #TeamFollowBack Madhya Pradesh Train Derailment: Village Youth Saved Many Lives  #FollowBack   \n",
              "2446                                                  #ModiMinistry Madhya Pradesh Train Derailment: Village Youth Saved Many Lives http://t.co/YvMpHd0z9X   \n",
              "2447                                  Still and Box alarm for the train derailment at 61st and Calumet struck out on the orders of 2-1-21. #ChicagoScanner   \n",
              "2448                      Consent Order on cleanup underway at CSX derailment site - Knoxville News Sentinel http://t.co/GieSoMgWTR http://t.co/NMFsgKf1Za   \n",
              "2449                                                                                       Madhya Pradesh Train Derailment: Village Youth Saved Many Lives   \n",
              "2450              Madhya Pradesh Train Derailment: Village Youth Saved Many Lives: A group of villagers saved over 70 passengers' lives after two train...   \n",
              "2451                                           MP train derailment: Village youth saved many lives\\nhttp://t.co/lTYeFJdM3A #IndiaTV http://t.co/0La1aw9uUd   \n",
              "2452              Madhya Pradesh Train Derailment: Village Youth Saved Many Lives: A group of villagers saved over 70 passengers' lives after two train...   \n",
              "2453                                        @greateranglia I know the cow incident not yr fault by how where they on the line could of caused a derailment   \n",
              "2454                                                                                       Madhya Pradesh Train Derailment: Village Youth Saved Many Lives   \n",
              "2455                                               CHICAGO FD\\nSTILL &amp; BOX ALARM/EMS PLAN I \\n 61ST &amp; CALUMET FOR THE EL TRAIN DERAILMENT\\nCINS/TG   \n",
              "2456              Madhya Pradesh Train Derailment: Village Youth Saved Many Lives: A group of villagers saved over 70 passengers' lives after two train...   \n",
              "2457                                      @Raishimi33 :) well I think that sounds like a fine plan where little derailment is possible so I applaud you :)   \n",
              "2458                                                                 Railway Minister Prabhu calls MP derailment a natural calamity http://t.co/ocxBWGyFT8   \n",
              "2459              Latest : Trains derailment: 'It's the freakiest of freak accidents' - The Indian Express: The Indi... http://t.co/iLdbeJe225 #IndianNews   \n",
              "2460                                                 @AlvinNelson07 A train isn't made to withstand collisions! Immediate derailment. It's totally fucked.   \n",
              "2461                          #???? #?? #??? #??? Trains derailment: 'It's the freakiest of freak accidents' - The Indian Express   http://t.co/4Y4YtwhD74   \n",
              "2462              Suresh Prabhu calls Harda derailment a natural calamity; officials feel warning signs ignored: Prabhu may regr... http://t.co/Q5MlbODVm4   \n",
              "2463                                                                   25 killed 50 injured in Madhya Pradesh twin train derailment http://t.co/DNU5HWSxo2   \n",
              "2464               Mumbai24x7 Helping Hand: In Mumbai 2 TTEs take charge of helpline to calm anxious relatives - The Ind... http://t.co/tUARYIJpqU #Mumbai   \n",
              "2465                             Trains derailment: 'It's the freakiest of freak accidents' - The Indian Express http://t.co/cEdCUgEuWs #News  #topstories   \n",
              "2466              Latest : Trains derailment: 'It's the freakiest of freak accidents' - The Indian Express: The Indi... http://t.co/sjXLlzOSW7 #IndianNews   \n",
              "2467                                            http://t.co/BAGEF9lFGT 25 killed 50 injured in Madhya Pradesh twin train derailment http://t.co/bVxqA3Kfrx   \n",
              "2468                                                Trains derailment: 'It's the freakiest of freak accidents' - The Indian Express http://t.co/CUVKf5YKAX   \n",
              "2469                                          PHOTOS: Green Line derailment near Cottage Grove and Garfield: http://t.co/4d9Cd4mnVh http://t.co/UNhqCQ6Bex   \n",
              "2470                                                   #ModiMinistry Railway Minister Prabhu calls MP derailment a natural calamity http://t.co/tL41olpAkZ   \n",
              "2471                          Train derailment: In Patna no news of any casualty so far - The Indian Express http://t.co/YH5VETm0YZ http://t.co/17Wgug8z0M   \n",
              "2472                      After the green line derailment my concern for track that looks like this goes up a bit... @cta @CTAFails http://t.co/1uDz0NVOEH   \n",
              "2473           Very sad to learn of the derailment of 2 trains in Mp.My deepest condolences to the families who lost loved ones in this Mishap @OfficeOfRG   \n",
              "2474                                                                       Scene of the derailment.. CTA Green Line at 63rd/Prairie http://t.co/zz5UDiLrea   \n",
              "2475                      Consent Order on cleanup underway at CSX derailment site - Knoxville News Sentinel http://t.co/xsZx9MWXYp http://t.co/NMFsgKf1Za   \n",
              "2476               Helping Hand: In Mumbai 2 TTEs take charge of helpline to calm anxious relatives - The Indian Exp... http://t.co/B9KUylcxg4 MumbaiTimes   \n",
              "2477                                                                                       Madhya Pradesh Train Derailment: Village Youth Saved Many Lives   \n",
              "\n",
              "      target  \n",
              "2439       1  \n",
              "2440       1  \n",
              "2441       1  \n",
              "2442       1  \n",
              "2443       1  \n",
              "2444       1  \n",
              "2445       1  \n",
              "2446       1  \n",
              "2447       1  \n",
              "2448       1  \n",
              "2449       1  \n",
              "2450       1  \n",
              "2451       1  \n",
              "2452       1  \n",
              "2453       1  \n",
              "2454       1  \n",
              "2455       1  \n",
              "2456       1  \n",
              "2457       1  \n",
              "2458       1  \n",
              "2459       1  \n",
              "2460       1  \n",
              "2461       1  \n",
              "2462       1  \n",
              "2463       1  \n",
              "2464       1  \n",
              "2465       1  \n",
              "2466       1  \n",
              "2467       1  \n",
              "2468       1  \n",
              "2469       1  \n",
              "2470       1  \n",
              "2471       1  \n",
              "2472       1  \n",
              "2473       1  \n",
              "2474       1  \n",
              "2475       1  \n",
              "2476       1  \n",
              "2477       1  "
            ]
          },
          "metadata": {
            "tags": []
          },
          "execution_count": 23
        }
      ]
    },
    {
      "cell_type": "markdown",
      "metadata": {
        "id": "PrLYXQTit-i0",
        "colab_type": "text"
      },
      "source": [
        " "
      ]
    },
    {
      "cell_type": "markdown",
      "metadata": {
        "id": "gzzVQ8lBt-i2",
        "colab_type": "text"
      },
      "source": [
        "#### Análisis de caracerísticas propias de los tweets:\n",
        "##### (RT, hashtags, quotations, links, mentions, emojis, etc)"
      ]
    },
    {
      "cell_type": "code",
      "metadata": {
        "id": "212HBW2zt-i3",
        "colab_type": "code",
        "colab": {},
        "outputId": "db9b3046-777f-4714-a9b9-62e1a4a3a9d8"
      },
      "source": [
        "# RT\n",
        "train.loc[train['text'].str.contains(r'(#)?RT\\s') == True, 'target'].value_counts(normalize = True)"
      ],
      "execution_count": 0,
      "outputs": [
        {
          "output_type": "stream",
          "text": [
            "/home/martin/.local/lib/python3.6/site-packages/pandas/core/strings.py:1954: UserWarning: This pattern has match groups. To actually get the groups, use str.extract.\n",
            "  return func(self, *args, **kwargs)\n"
          ],
          "name": "stderr"
        },
        {
          "output_type": "execute_result",
          "data": {
            "text/plain": [
              "0    0.515789\n",
              "1    0.484211\n",
              "Name: target, dtype: float64"
            ]
          },
          "metadata": {
            "tags": []
          },
          "execution_count": 24
        }
      ]
    },
    {
      "cell_type": "code",
      "metadata": {
        "id": "qF0SwGpMt-i9",
        "colab_type": "code",
        "colab": {},
        "outputId": "69240eae-4223-49c3-d380-94a839485b64"
      },
      "source": [
        "# Hashtags\n",
        "train.loc[train['text'].str.contains(r'#[a-zA-z0-9]*') == True, 'target'].value_counts(normalize = True)"
      ],
      "execution_count": 0,
      "outputs": [
        {
          "output_type": "execute_result",
          "data": {
            "text/plain": [
              "0    0.508621\n",
              "1    0.491379\n",
              "Name: target, dtype: float64"
            ]
          },
          "metadata": {
            "tags": []
          },
          "execution_count": 25
        }
      ]
    },
    {
      "cell_type": "code",
      "metadata": {
        "id": "C7MBAkKZt-jC",
        "colab_type": "code",
        "colab": {}
      },
      "source": [
        "hashtags_raw_0 = train.loc[train['target'] == 0, 'text'].str.findall(r'#\\S*').tolist() #Resultado: lista de listas\n",
        "hashtags_0 = []\n",
        "for hashtag in hashtags_raw_0:\n",
        "    if hashtag != []:\n",
        "        hashtag = list(set(hashtag)) #Elimino duplicados (caso hashtag repetido en un tweet)\n",
        "        for value in hashtag:\n",
        "            hashtags_0.append(value)\n",
        "\n",
        "hashtags_raw_1 = train.loc[train['target'] == 1, 'text'].str.findall(r'#\\S*').tolist()\n",
        "hashtags_1 = []\n",
        "for hashtag in hashtags_raw_1:\n",
        "    if hashtag != []:\n",
        "        hashtag = list(set(hashtag)) #Elimino duplicados\n",
        "        for value in hashtag:\n",
        "            hashtags_1.append(value)"
      ],
      "execution_count": 0,
      "outputs": []
    },
    {
      "cell_type": "code",
      "metadata": {
        "id": "2nlwRStgt-jJ",
        "colab_type": "code",
        "colab": {},
        "outputId": "848e75ef-59ff-4b97-8962-d01585ea212b"
      },
      "source": [
        "pd.Series(hashtags_0).value_counts().head(10)"
      ],
      "execution_count": 0,
      "outputs": [
        {
          "output_type": "execute_result",
          "data": {
            "text/plain": [
              "#best            17\n",
              "#hot             17\n",
              "#prebreak        17\n",
              "#news            15\n",
              "#GBBO            13\n",
              "#nowplaying      10\n",
              "#jobs             9\n",
              "#NowPlaying       8\n",
              "#DnB              8\n",
              "#Directioners     8\n",
              "dtype: int64"
            ]
          },
          "metadata": {
            "tags": []
          },
          "execution_count": 27
        }
      ]
    },
    {
      "cell_type": "code",
      "metadata": {
        "id": "r5nLd_tqt-jP",
        "colab_type": "code",
        "colab": {},
        "outputId": "cd223e3b-0c8a-4cf2-d179-1c6e742f230a"
      },
      "source": [
        "pd.Series(hashtags_1).value_counts().head(10)"
      ],
      "execution_count": 0,
      "outputs": [
        {
          "output_type": "execute_result",
          "data": {
            "text/plain": [
              "#News         32\n",
              "#news         21\n",
              "#Hiroshima    20\n",
              "#??           13\n",
              "#prebreak     13\n",
              "#best         13\n",
              "#hot          13\n",
              "#India        10\n",
              "#Japan        10\n",
              "#yyc           9\n",
              "dtype: int64"
            ]
          },
          "metadata": {
            "tags": []
          },
          "execution_count": 28
        }
      ]
    },
    {
      "cell_type": "code",
      "metadata": {
        "id": "cali-VZ8t-jX",
        "colab_type": "code",
        "colab": {},
        "outputId": "19dcdc2d-0ce2-4d4e-d1f0-1d9fc2456e1c"
      },
      "source": [
        "train.loc[(train['target'] == 1) & (train['text'].str.contains(r'#Hiroshima'))].head(10)"
      ],
      "execution_count": 0,
      "outputs": [
        {
          "output_type": "execute_result",
          "data": {
            "text/html": [
              "<div>\n",
              "<style scoped>\n",
              "    .dataframe tbody tr th:only-of-type {\n",
              "        vertical-align: middle;\n",
              "    }\n",
              "\n",
              "    .dataframe tbody tr th {\n",
              "        vertical-align: top;\n",
              "    }\n",
              "\n",
              "    .dataframe thead th {\n",
              "        text-align: right;\n",
              "    }\n",
              "</style>\n",
              "<table border=\"1\" class=\"dataframe\">\n",
              "  <thead>\n",
              "    <tr style=\"text-align: right;\">\n",
              "      <th></th>\n",
              "      <th>id</th>\n",
              "      <th>keyword</th>\n",
              "      <th>location</th>\n",
              "      <th>text</th>\n",
              "      <th>target</th>\n",
              "    </tr>\n",
              "  </thead>\n",
              "  <tbody>\n",
              "    <tr>\n",
              "      <th>1077</th>\n",
              "      <td>1556</td>\n",
              "      <td>bomb</td>\n",
              "      <td>Ireland</td>\n",
              "      <td>The crew on #EnolaGay had nuclear bomb on board disarmed. 15 mins to #Hiroshima they got ready to arm Little Boy http://t.co/JB25fHKe6q</td>\n",
              "      <td>1</td>\n",
              "    </tr>\n",
              "    <tr>\n",
              "      <th>1107</th>\n",
              "      <td>1600</td>\n",
              "      <td>bombed</td>\n",
              "      <td>??</td>\n",
              "      <td>'the third generation atomic bombed survivor' Photo exhibition 11:00 to 18:00 8/6. \\n#?? #Hiroshima http://t.co/gVAipmLSl0</td>\n",
              "      <td>1</td>\n",
              "    </tr>\n",
              "    <tr>\n",
              "      <th>1137</th>\n",
              "      <td>1638</td>\n",
              "      <td>bombing</td>\n",
              "      <td>NaN</td>\n",
              "      <td>The only country claiming the moral high ground is the only one to have dropped atomic bombs. #Hiroshima #BanTheBomb\\nhttp://t.co/6G49ywwsQJ</td>\n",
              "      <td>1</td>\n",
              "    </tr>\n",
              "    <tr>\n",
              "      <th>1140</th>\n",
              "      <td>1644</td>\n",
              "      <td>bombing</td>\n",
              "      <td>WorldWide</td>\n",
              "      <td>#Australia #News ; #Japan marks 70th anniversary of #Hiroshima atomic bombing  http://t.co/7aD0L7cgee READ MORE; http://t.co/hHzQl9tzNP</td>\n",
              "      <td>1</td>\n",
              "    </tr>\n",
              "    <tr>\n",
              "      <th>1152</th>\n",
              "      <td>1660</td>\n",
              "      <td>bombing</td>\n",
              "      <td>Washington, DC</td>\n",
              "      <td>#Japan marks 70th anniversary of #Hiroshima atomic bombing (from @AP) http://t.co/qREInWg0GS</td>\n",
              "      <td>1</td>\n",
              "    </tr>\n",
              "    <tr>\n",
              "      <th>2341</th>\n",
              "      <td>3368</td>\n",
              "      <td>demolition</td>\n",
              "      <td>NaN</td>\n",
              "      <td>No civilian population ever deserves demolition may we never forget &amp;amp; learn from our mistakes #Hiroshima</td>\n",
              "      <td>1</td>\n",
              "    </tr>\n",
              "    <tr>\n",
              "      <th>2601</th>\n",
              "      <td>3735</td>\n",
              "      <td>destroyed</td>\n",
              "      <td>Boise, Idaho</td>\n",
              "      <td>70 years after #ABomb destroyd #HiroshimaÛÓ#BBC looks at wht #survived http://t.co/dLgNUuuUYn #CNV Watch Peace Vigils: http://t.co/jvkYzNDtja</td>\n",
              "      <td>1</td>\n",
              "    </tr>\n",
              "    <tr>\n",
              "      <th>2703</th>\n",
              "      <td>3877</td>\n",
              "      <td>detonation</td>\n",
              "      <td>NaN</td>\n",
              "      <td>Don't miss Chris #Appy's detonation of the myths obscuring our crime in #Hiroshima 70 yrs ago this month. @salon http://t.co/DlP8kPkt2k</td>\n",
              "      <td>1</td>\n",
              "    </tr>\n",
              "    <tr>\n",
              "      <th>2754</th>\n",
              "      <td>3957</td>\n",
              "      <td>devastation</td>\n",
              "      <td>Newport, Wales, UK</td>\n",
              "      <td>@cllrraymogford Indeed Ray devastation would be far more comprehensive #Hiroshima</td>\n",
              "      <td>1</td>\n",
              "    </tr>\n",
              "    <tr>\n",
              "      <th>2772</th>\n",
              "      <td>3984</td>\n",
              "      <td>devastation</td>\n",
              "      <td>EVERYWHERE</td>\n",
              "      <td>What would your city look like if it had been the subject of the #Hiroshima bombing? Hint-devastation. #BeyondtheBomb http://t.co/3nKcUlGVMW</td>\n",
              "      <td>1</td>\n",
              "    </tr>\n",
              "  </tbody>\n",
              "</table>\n",
              "</div>"
            ],
            "text/plain": [
              "        id      keyword            location  \\\n",
              "1077  1556         bomb             Ireland   \n",
              "1107  1600       bombed                  ??   \n",
              "1137  1638      bombing                 NaN   \n",
              "1140  1644      bombing           WorldWide   \n",
              "1152  1660      bombing      Washington, DC   \n",
              "2341  3368   demolition                 NaN   \n",
              "2601  3735    destroyed        Boise, Idaho   \n",
              "2703  3877   detonation                 NaN   \n",
              "2754  3957  devastation  Newport, Wales, UK   \n",
              "2772  3984  devastation          EVERYWHERE   \n",
              "\n",
              "                                                                                                                                                text  \\\n",
              "1077         The crew on #EnolaGay had nuclear bomb on board disarmed. 15 mins to #Hiroshima they got ready to arm Little Boy http://t.co/JB25fHKe6q   \n",
              "1107                      'the third generation atomic bombed survivor' Photo exhibition 11:00 to 18:00 8/6. \\n#?? #Hiroshima http://t.co/gVAipmLSl0   \n",
              "1137    The only country claiming the moral high ground is the only one to have dropped atomic bombs. #Hiroshima #BanTheBomb\\nhttp://t.co/6G49ywwsQJ   \n",
              "1140         #Australia #News ; #Japan marks 70th anniversary of #Hiroshima atomic bombing  http://t.co/7aD0L7cgee READ MORE; http://t.co/hHzQl9tzNP   \n",
              "1152                                                    #Japan marks 70th anniversary of #Hiroshima atomic bombing (from @AP) http://t.co/qREInWg0GS   \n",
              "2341                                    No civilian population ever deserves demolition may we never forget &amp; learn from our mistakes #Hiroshima   \n",
              "2601  70 years after #ABomb destroyd #HiroshimaÛÓ#BBC looks at wht #survived http://t.co/dLgNUuuUYn #CNV Watch Peace Vigils: http://t.co/jvkYzNDtja   \n",
              "2703         Don't miss Chris #Appy's detonation of the myths obscuring our crime in #Hiroshima 70 yrs ago this month. @salon http://t.co/DlP8kPkt2k   \n",
              "2754                                                               @cllrraymogford Indeed Ray devastation would be far more comprehensive #Hiroshima   \n",
              "2772    What would your city look like if it had been the subject of the #Hiroshima bombing? Hint-devastation. #BeyondtheBomb http://t.co/3nKcUlGVMW   \n",
              "\n",
              "      target  \n",
              "1077       1  \n",
              "1107       1  \n",
              "1137       1  \n",
              "1140       1  \n",
              "1152       1  \n",
              "2341       1  \n",
              "2601       1  \n",
              "2703       1  \n",
              "2754       1  \n",
              "2772       1  "
            ]
          },
          "metadata": {
            "tags": []
          },
          "execution_count": 29
        }
      ]
    },
    {
      "cell_type": "code",
      "metadata": {
        "id": "EjffjylBt-je",
        "colab_type": "code",
        "colab": {},
        "outputId": "a5c20faf-1d38-4667-cfe1-3b77e3fb41fd"
      },
      "source": [
        "train.loc[(train['target'] == 1) & (train['text'].str.contains(r'#\\?'))]"
      ],
      "execution_count": 0,
      "outputs": [
        {
          "output_type": "execute_result",
          "data": {
            "text/html": [
              "<div>\n",
              "<style scoped>\n",
              "    .dataframe tbody tr th:only-of-type {\n",
              "        vertical-align: middle;\n",
              "    }\n",
              "\n",
              "    .dataframe tbody tr th {\n",
              "        vertical-align: top;\n",
              "    }\n",
              "\n",
              "    .dataframe thead th {\n",
              "        text-align: right;\n",
              "    }\n",
              "</style>\n",
              "<table border=\"1\" class=\"dataframe\">\n",
              "  <thead>\n",
              "    <tr style=\"text-align: right;\">\n",
              "      <th></th>\n",
              "      <th>id</th>\n",
              "      <th>keyword</th>\n",
              "      <th>location</th>\n",
              "      <th>text</th>\n",
              "      <th>target</th>\n",
              "    </tr>\n",
              "  </thead>\n",
              "  <tbody>\n",
              "    <tr>\n",
              "      <th>875</th>\n",
              "      <td>1269</td>\n",
              "      <td>blood</td>\n",
              "      <td>???</td>\n",
              "      <td>Private thirsty night?SAD BLOOD ROCK'N ROLL? #??</td>\n",
              "      <td>1</td>\n",
              "    </tr>\n",
              "    <tr>\n",
              "      <th>1107</th>\n",
              "      <td>1600</td>\n",
              "      <td>bombed</td>\n",
              "      <td>??</td>\n",
              "      <td>'the third generation atomic bombed survivor' Photo exhibition 11:00 to 18:00 8/6. \\n#?? #Hiroshima http://t.co/gVAipmLSl0</td>\n",
              "      <td>1</td>\n",
              "    </tr>\n",
              "    <tr>\n",
              "      <th>1323</th>\n",
              "      <td>1914</td>\n",
              "      <td>burning</td>\n",
              "      <td>Australian Capital Territory</td>\n",
              "      <td>#?x?: :and to counter acts such as the burning of the Alexandrian library.</td>\n",
              "      <td>1</td>\n",
              "    </tr>\n",
              "    <tr>\n",
              "      <th>2165</th>\n",
              "      <td>3106</td>\n",
              "      <td>debris</td>\n",
              "      <td>NaN</td>\n",
              "      <td>#?? #?? #??? #??? MH370: Aircraft debris found on La Reunion is from missing Malaysia Airlines ...  http://t.co/MRVXBZywd4</td>\n",
              "      <td>1</td>\n",
              "    </tr>\n",
              "    <tr>\n",
              "      <th>2168</th>\n",
              "      <td>3109</td>\n",
              "      <td>debris</td>\n",
              "      <td>NaN</td>\n",
              "      <td>#?? #?? #??? #??? MH370: Aircraft debris found on La Reunion is from missing Malaysia Airlines ...  http://t.co/q1GlK8plUD</td>\n",
              "      <td>1</td>\n",
              "    </tr>\n",
              "    <tr>\n",
              "      <th>2170</th>\n",
              "      <td>3112</td>\n",
              "      <td>debris</td>\n",
              "      <td>NaN</td>\n",
              "      <td>#?? #???? #??? #??? MH370: Aircraft debris found on La Reunion is from missing Malaysia Airlines ...  http://t.co/hHWv0EUDFv</td>\n",
              "      <td>1</td>\n",
              "    </tr>\n",
              "    <tr>\n",
              "      <th>2175</th>\n",
              "      <td>3118</td>\n",
              "      <td>debris</td>\n",
              "      <td>NaN</td>\n",
              "      <td>#?? #???? #??? #??? MH370: Aircraft debris found on La Reunion is from missing Malaysia Airlines ...  http://t.co/oTsM38XMas</td>\n",
              "      <td>1</td>\n",
              "    </tr>\n",
              "    <tr>\n",
              "      <th>2182</th>\n",
              "      <td>3126</td>\n",
              "      <td>debris</td>\n",
              "      <td>NaN</td>\n",
              "      <td>#??? #?? #??? #??? MH370: Aircraft debris found on La Reunion is from missing Malaysia Airlines ...  http://t.co/zxCORQ0A3a</td>\n",
              "      <td>1</td>\n",
              "    </tr>\n",
              "    <tr>\n",
              "      <th>2461</th>\n",
              "      <td>3529</td>\n",
              "      <td>derailment</td>\n",
              "      <td>NaN</td>\n",
              "      <td>#???? #?? #??? #??? Trains derailment: 'It's the freakiest of freak accidents' - The Indian Express   http://t.co/4Y4YtwhD74</td>\n",
              "      <td>1</td>\n",
              "    </tr>\n",
              "    <tr>\n",
              "      <th>4886</th>\n",
              "      <td>6956</td>\n",
              "      <td>massacre</td>\n",
              "      <td>NaN</td>\n",
              "      <td>Massacre at #Sinjar : Has the World Forgotten the #Yazidi ?\\nhttp://t.co/WUh1g2BLP1\\n#??_????_????? #yazidi_shingal_genocide #EzidiGenocide</td>\n",
              "      <td>1</td>\n",
              "    </tr>\n",
              "    <tr>\n",
              "      <th>5289</th>\n",
              "      <td>7556</td>\n",
              "      <td>outbreak</td>\n",
              "      <td>??????</td>\n",
              "      <td>'Legionnaires' Disease: What's Being Done to Stop Deadly Outbreak' http://t.co/FftOKd0Vts #????_?????</td>\n",
              "      <td>1</td>\n",
              "    </tr>\n",
              "    <tr>\n",
              "      <th>6028</th>\n",
              "      <td>8615</td>\n",
              "      <td>seismic</td>\n",
              "      <td>NaN</td>\n",
              "      <td>#Sismo DETECTADO #JapÌ_n [Report 1] 01:01:56 Okinawa Island region M4.0 Depth 10km Maximum seismic intensity 3 JST #??</td>\n",
              "      <td>1</td>\n",
              "    </tr>\n",
              "    <tr>\n",
              "      <th>6033</th>\n",
              "      <td>8623</td>\n",
              "      <td>seismic</td>\n",
              "      <td>Somalia</td>\n",
              "      <td>Oil and Gas Exploration Takes Seismic Shift in Gabon to Somalia - Bloomberg http://t.co/bEKrPjnYHs #??????? #Somalia</td>\n",
              "      <td>1</td>\n",
              "    </tr>\n",
              "    <tr>\n",
              "      <th>6035</th>\n",
              "      <td>8625</td>\n",
              "      <td>seismic</td>\n",
              "      <td>NaN</td>\n",
              "      <td>#Sismo DETECTADO #JapÌ_n [Report 3] 01:02:17 Okinawa Island region M3.8 Depth 10km Maximum seismic intensity 3 JST #??</td>\n",
              "      <td>1</td>\n",
              "    </tr>\n",
              "    <tr>\n",
              "      <th>6045</th>\n",
              "      <td>8640</td>\n",
              "      <td>seismic</td>\n",
              "      <td>NaN</td>\n",
              "      <td>#Sismo DETECTADO #JapÌ_n 06:32:43 Miyagi Estimated seismic intensity 0 JST #??</td>\n",
              "      <td>1</td>\n",
              "    </tr>\n",
              "    <tr>\n",
              "      <th>6063</th>\n",
              "      <td>8662</td>\n",
              "      <td>sinkhole</td>\n",
              "      <td>Alger-New York-San Francisco</td>\n",
              "      <td>#SanDiego #News Sinkhole Disrupts Downtown Trolley Service: The incident happened Wed... http://t.co/RVMMuT3GvC #Algeria #???????</td>\n",
              "      <td>1</td>\n",
              "    </tr>\n",
              "    <tr>\n",
              "      <th>6413</th>\n",
              "      <td>9171</td>\n",
              "      <td>suicide%20bomber</td>\n",
              "      <td>NaN</td>\n",
              "      <td>#?? #?? #??? #??? Suicide bomber kills 15 in Saudi security site mosque - Reuters  http://t.co/LgpNe5HkaO</td>\n",
              "      <td>1</td>\n",
              "    </tr>\n",
              "    <tr>\n",
              "      <th>6416</th>\n",
              "      <td>9174</td>\n",
              "      <td>suicide%20bomber</td>\n",
              "      <td>NaN</td>\n",
              "      <td>#deai #??? #??? #??? Suicide bomber kills 15 in Saudi security site mosque - Reuters  http://t.co/SqydkslFzp</td>\n",
              "      <td>1</td>\n",
              "    </tr>\n",
              "    <tr>\n",
              "      <th>6426</th>\n",
              "      <td>9191</td>\n",
              "      <td>suicide%20bomber</td>\n",
              "      <td>NaN</td>\n",
              "      <td>#?? #?? #??? #??? Suicide bomber kills 15 in Saudi security site mosque - Reuters  http://t.co/txg7K2DO9v</td>\n",
              "      <td>1</td>\n",
              "    </tr>\n",
              "  </tbody>\n",
              "</table>\n",
              "</div>"
            ],
            "text/plain": [
              "        id           keyword                      location  \\\n",
              "875   1269             blood                           ???   \n",
              "1107  1600            bombed                            ??   \n",
              "1323  1914           burning  Australian Capital Territory   \n",
              "2165  3106            debris                           NaN   \n",
              "2168  3109            debris                           NaN   \n",
              "2170  3112            debris                           NaN   \n",
              "2175  3118            debris                           NaN   \n",
              "2182  3126            debris                           NaN   \n",
              "2461  3529        derailment                           NaN   \n",
              "4886  6956          massacre                           NaN   \n",
              "5289  7556          outbreak                        ??????   \n",
              "6028  8615           seismic                           NaN   \n",
              "6033  8623           seismic                       Somalia   \n",
              "6035  8625           seismic                           NaN   \n",
              "6045  8640           seismic                           NaN   \n",
              "6063  8662          sinkhole  Alger-New York-San Francisco   \n",
              "6413  9171  suicide%20bomber                           NaN   \n",
              "6416  9174  suicide%20bomber                           NaN   \n",
              "6426  9191  suicide%20bomber                           NaN   \n",
              "\n",
              "                                                                                                                                             text  \\\n",
              "875                                                                                              Private thirsty night?SAD BLOOD ROCK'N ROLL? #??   \n",
              "1107                   'the third generation atomic bombed survivor' Photo exhibition 11:00 to 18:00 8/6. \\n#?? #Hiroshima http://t.co/gVAipmLSl0   \n",
              "1323                                                                   #?x?: :and to counter acts such as the burning of the Alexandrian library.   \n",
              "2165                   #?? #?? #??? #??? MH370: Aircraft debris found on La Reunion is from missing Malaysia Airlines ...  http://t.co/MRVXBZywd4   \n",
              "2168                   #?? #?? #??? #??? MH370: Aircraft debris found on La Reunion is from missing Malaysia Airlines ...  http://t.co/q1GlK8plUD   \n",
              "2170                 #?? #???? #??? #??? MH370: Aircraft debris found on La Reunion is from missing Malaysia Airlines ...  http://t.co/hHWv0EUDFv   \n",
              "2175                 #?? #???? #??? #??? MH370: Aircraft debris found on La Reunion is from missing Malaysia Airlines ...  http://t.co/oTsM38XMas   \n",
              "2182                  #??? #?? #??? #??? MH370: Aircraft debris found on La Reunion is from missing Malaysia Airlines ...  http://t.co/zxCORQ0A3a   \n",
              "2461                 #???? #?? #??? #??? Trains derailment: 'It's the freakiest of freak accidents' - The Indian Express   http://t.co/4Y4YtwhD74   \n",
              "4886  Massacre at #Sinjar : Has the World Forgotten the #Yazidi ?\\nhttp://t.co/WUh1g2BLP1\\n#??_????_????? #yazidi_shingal_genocide #EzidiGenocide   \n",
              "5289                                        'Legionnaires' Disease: What's Being Done to Stop Deadly Outbreak' http://t.co/FftOKd0Vts #????_?????   \n",
              "6028                       #Sismo DETECTADO #JapÌ_n [Report 1] 01:01:56 Okinawa Island region M4.0 Depth 10km Maximum seismic intensity 3 JST #??   \n",
              "6033                         Oil and Gas Exploration Takes Seismic Shift in Gabon to Somalia - Bloomberg http://t.co/bEKrPjnYHs #??????? #Somalia   \n",
              "6035                       #Sismo DETECTADO #JapÌ_n [Report 3] 01:02:17 Okinawa Island region M3.8 Depth 10km Maximum seismic intensity 3 JST #??   \n",
              "6045                                                               #Sismo DETECTADO #JapÌ_n 06:32:43 Miyagi Estimated seismic intensity 0 JST #??   \n",
              "6063            #SanDiego #News Sinkhole Disrupts Downtown Trolley Service: The incident happened Wed... http://t.co/RVMMuT3GvC #Algeria #???????   \n",
              "6413                                    #?? #?? #??? #??? Suicide bomber kills 15 in Saudi security site mosque - Reuters  http://t.co/LgpNe5HkaO   \n",
              "6416                                 #deai #??? #??? #??? Suicide bomber kills 15 in Saudi security site mosque - Reuters  http://t.co/SqydkslFzp   \n",
              "6426                                    #?? #?? #??? #??? Suicide bomber kills 15 in Saudi security site mosque - Reuters  http://t.co/txg7K2DO9v   \n",
              "\n",
              "      target  \n",
              "875        1  \n",
              "1107       1  \n",
              "1323       1  \n",
              "2165       1  \n",
              "2168       1  \n",
              "2170       1  \n",
              "2175       1  \n",
              "2182       1  \n",
              "2461       1  \n",
              "4886       1  \n",
              "5289       1  \n",
              "6028       1  \n",
              "6033       1  \n",
              "6035       1  \n",
              "6045       1  \n",
              "6063       1  \n",
              "6413       1  \n",
              "6416       1  \n",
              "6426       1  "
            ]
          },
          "metadata": {
            "tags": []
          },
          "execution_count": 30
        }
      ]
    },
    {
      "cell_type": "code",
      "metadata": {
        "id": "VKzcZxtbt-jk",
        "colab_type": "code",
        "colab": {},
        "outputId": "c9fa3cdf-8aa2-4611-9455-afcc02059fa3"
      },
      "source": [
        "# Mentions\n",
        "train.loc[train['text'].str.contains(r'\\s@.*') == True, 'target'].value_counts(normalize = True)"
      ],
      "execution_count": 0,
      "outputs": [
        {
          "output_type": "execute_result",
          "data": {
            "text/plain": [
              "0    0.637931\n",
              "1    0.362069\n",
              "Name: target, dtype: float64"
            ]
          },
          "metadata": {
            "tags": []
          },
          "execution_count": 31
        }
      ]
    },
    {
      "cell_type": "code",
      "metadata": {
        "id": "tHik-FADt-jq",
        "colab_type": "code",
        "colab": {},
        "outputId": "9c3762b5-4a1d-48a9-ff0f-422604e08888"
      },
      "source": [
        "# webpages\n",
        "train.loc[train['text'].str.contains(r'https://[a-zA-Z0-9].[a-z]([./a-zA-Z0-9])?') == True, 'target'].value_counts(normalize = True)"
      ],
      "execution_count": 0,
      "outputs": [
        {
          "output_type": "stream",
          "text": [
            "/home/martin/.local/lib/python3.6/site-packages/pandas/core/strings.py:1954: UserWarning: This pattern has match groups. To actually get the groups, use str.extract.\n",
            "  return func(self, *args, **kwargs)\n"
          ],
          "name": "stderr"
        },
        {
          "output_type": "execute_result",
          "data": {
            "text/plain": [
              "0    0.669951\n",
              "1    0.330049\n",
              "Name: target, dtype: float64"
            ]
          },
          "metadata": {
            "tags": []
          },
          "execution_count": 32
        }
      ]
    },
    {
      "cell_type": "code",
      "metadata": {
        "id": "JJcM5OMot-jw",
        "colab_type": "code",
        "colab": {},
        "outputId": "99d2b134-81f7-4a6b-b4c3-bac44d26dcaf"
      },
      "source": [
        "#emojis: la carita feliz, por ejemplo\n",
        "train.loc[(train['text'].str.contains(r':(-)?\\)') == True), 'target'].value_counts(normalize = True)"
      ],
      "execution_count": 0,
      "outputs": [
        {
          "output_type": "stream",
          "text": [
            "/home/martin/.local/lib/python3.6/site-packages/pandas/core/strings.py:1954: UserWarning: This pattern has match groups. To actually get the groups, use str.extract.\n",
            "  return func(self, *args, **kwargs)\n"
          ],
          "name": "stderr"
        },
        {
          "output_type": "execute_result",
          "data": {
            "text/plain": [
              "0    0.916667\n",
              "1    0.083333\n",
              "Name: target, dtype: float64"
            ]
          },
          "metadata": {
            "tags": []
          },
          "execution_count": 52
        }
      ]
    },
    {
      "cell_type": "code",
      "metadata": {
        "id": "ytMappvLt-j2",
        "colab_type": "code",
        "colab": {},
        "outputId": "d5f7c79b-932f-4e0a-c6b8-85ff9b721b11"
      },
      "source": [
        "# Qué dicen los tweets de catástrofes que incluyen la carita feliz?\n",
        "train.loc[(train['text'].str.contains(r':(-)?\\)') == True) & train['target'] == 1]"
      ],
      "execution_count": 0,
      "outputs": [
        {
          "output_type": "execute_result",
          "data": {
            "text/html": [
              "<div>\n",
              "<style scoped>\n",
              "    .dataframe tbody tr th:only-of-type {\n",
              "        vertical-align: middle;\n",
              "    }\n",
              "\n",
              "    .dataframe tbody tr th {\n",
              "        vertical-align: top;\n",
              "    }\n",
              "\n",
              "    .dataframe thead th {\n",
              "        text-align: right;\n",
              "    }\n",
              "</style>\n",
              "<table border=\"1\" class=\"dataframe\">\n",
              "  <thead>\n",
              "    <tr style=\"text-align: right;\">\n",
              "      <th></th>\n",
              "      <th>id</th>\n",
              "      <th>keyword</th>\n",
              "      <th>location</th>\n",
              "      <th>text</th>\n",
              "      <th>target</th>\n",
              "    </tr>\n",
              "  </thead>\n",
              "  <tbody>\n",
              "    <tr>\n",
              "      <th>819</th>\n",
              "      <td>1190</td>\n",
              "      <td>blizzard</td>\n",
              "      <td>Sydney</td>\n",
              "      <td>@Ashayo @MsMiggi Hi Ashayo! I believe there will be VODs on YouTube after the presentation but there is nothing like seeing it live :)</td>\n",
              "      <td>1</td>\n",
              "    </tr>\n",
              "    <tr>\n",
              "      <th>2457</th>\n",
              "      <td>3525</td>\n",
              "      <td>derailment</td>\n",
              "      <td>UK</td>\n",
              "      <td>@Raishimi33 :) well I think that sounds like a fine plan where little derailment is possible so I applaud you :)</td>\n",
              "      <td>1</td>\n",
              "    </tr>\n",
              "  </tbody>\n",
              "</table>\n",
              "</div>"
            ],
            "text/plain": [
              "        id     keyword location  \\\n",
              "819   1190    blizzard   Sydney   \n",
              "2457  3525  derailment       UK   \n",
              "\n",
              "                                                                                                                                        text  \\\n",
              "819   @Ashayo @MsMiggi Hi Ashayo! I believe there will be VODs on YouTube after the presentation but there is nothing like seeing it live :)   \n",
              "2457                        @Raishimi33 :) well I think that sounds like a fine plan where little derailment is possible so I applaud you :)   \n",
              "\n",
              "      target  \n",
              "819        1  \n",
              "2457       1  "
            ]
          },
          "metadata": {
            "tags": []
          },
          "execution_count": 34
        }
      ]
    },
    {
      "cell_type": "code",
      "metadata": {
        "id": "AfKuKeJat-j7",
        "colab_type": "code",
        "colab": {},
        "outputId": "b3b407be-8849-422f-f1f3-c0196c090896"
      },
      "source": [
        "#lol\n",
        "train.loc[train['text'].str.contains(r'(lol)|(LOL)|(LoL)') == True, 'target'].value_counts()"
      ],
      "execution_count": 0,
      "outputs": [
        {
          "output_type": "stream",
          "text": [
            "/home/martin/.local/lib/python3.6/site-packages/pandas/core/strings.py:1954: UserWarning: This pattern has match groups. To actually get the groups, use str.extract.\n",
            "  return func(self, *args, **kwargs)\n"
          ],
          "name": "stderr"
        },
        {
          "output_type": "execute_result",
          "data": {
            "text/plain": [
              "0    63\n",
              "1     8\n",
              "Name: target, dtype: int64"
            ]
          },
          "metadata": {
            "tags": []
          },
          "execution_count": 35
        }
      ]
    },
    {
      "cell_type": "code",
      "metadata": {
        "id": "wDNBQQLVt-kC",
        "colab_type": "code",
        "colab": {},
        "outputId": "8a9adb72-4c7e-4d2e-b88f-5eb3ee721272"
      },
      "source": [
        "# Qué dicen los tweets de catástrofes que incluyen la palabra lol?\n",
        "train.loc[(train['text'].str.contains(r'(lol)|(LOL)|(LoL)') == True) & (train['target'] == 1)].head(10)"
      ],
      "execution_count": 0,
      "outputs": [
        {
          "output_type": "execute_result",
          "data": {
            "text/html": [
              "<div>\n",
              "<style scoped>\n",
              "    .dataframe tbody tr th:only-of-type {\n",
              "        vertical-align: middle;\n",
              "    }\n",
              "\n",
              "    .dataframe tbody tr th {\n",
              "        vertical-align: top;\n",
              "    }\n",
              "\n",
              "    .dataframe thead th {\n",
              "        text-align: right;\n",
              "    }\n",
              "</style>\n",
              "<table border=\"1\" class=\"dataframe\">\n",
              "  <thead>\n",
              "    <tr style=\"text-align: right;\">\n",
              "      <th></th>\n",
              "      <th>id</th>\n",
              "      <th>keyword</th>\n",
              "      <th>location</th>\n",
              "      <th>text</th>\n",
              "      <th>target</th>\n",
              "    </tr>\n",
              "  </thead>\n",
              "  <tbody>\n",
              "    <tr>\n",
              "      <th>2128</th>\n",
              "      <td>3056</td>\n",
              "      <td>deaths</td>\n",
              "      <td>Mooseknuckle, Maine</td>\n",
              "      <td>ÛÏ@LOLGOP: 2.2 cases of voter fraud a year. \\nWE NEED NEW LAWS!\\n\\n83 gun deaths a day. \\nWHO ACTUALLY FOLLOWS LAWS AMIRITE?\\n\\n#VRA50Û</td>\n",
              "      <td>1</td>\n",
              "    </tr>\n",
              "    <tr>\n",
              "      <th>2152</th>\n",
              "      <td>3089</td>\n",
              "      <td>deaths</td>\n",
              "      <td>the void, U.S.A</td>\n",
              "      <td>@HighQualityBird a reverse situation (lol I don't know 9/11?) where US civilian deaths were specifically utilized to make a political</td>\n",
              "      <td>1</td>\n",
              "    </tr>\n",
              "    <tr>\n",
              "      <th>5052</th>\n",
              "      <td>7201</td>\n",
              "      <td>natural%20disaster</td>\n",
              "      <td>Canada</td>\n",
              "      <td>@Cali74142290 lol natural disaster/hospital crisis something is needed to get rid of some cast members....</td>\n",
              "      <td>1</td>\n",
              "    </tr>\n",
              "    <tr>\n",
              "      <th>6047</th>\n",
              "      <td>8643</td>\n",
              "      <td>sinkhole</td>\n",
              "      <td>NaN</td>\n",
              "      <td>MRW when a sinkhole opens up beneath my friends and I... #gif #funny #lol #comedy #iFunny #video #image #RT http://t.co/XiYdYfptru</td>\n",
              "      <td>1</td>\n",
              "    </tr>\n",
              "    <tr>\n",
              "      <th>6701</th>\n",
              "      <td>9598</td>\n",
              "      <td>thunder</td>\n",
              "      <td>Baydestrian</td>\n",
              "      <td>suddenly it's off &amp;amp; on gloomy &amp;amp; thunder so loud it shakes the windows? Not ever on the Bay Area. Miss me w/that lol http://t.co/x4eCGGvnSN</td>\n",
              "      <td>1</td>\n",
              "    </tr>\n",
              "    <tr>\n",
              "      <th>6798</th>\n",
              "      <td>9738</td>\n",
              "      <td>tragedy</td>\n",
              "      <td>houston</td>\n",
              "      <td>@itss_selenaluna like a beautiful ass tragedy lol</td>\n",
              "      <td>1</td>\n",
              "    </tr>\n",
              "    <tr>\n",
              "      <th>6913</th>\n",
              "      <td>9912</td>\n",
              "      <td>trouble</td>\n",
              "      <td>YA MOTHA BED</td>\n",
              "      <td>@lucysforsale funny cause my dumb ass was the young one to get n trouble the most lol</td>\n",
              "      <td>1</td>\n",
              "    </tr>\n",
              "    <tr>\n",
              "      <th>7050</th>\n",
              "      <td>10101</td>\n",
              "      <td>typhoon</td>\n",
              "      <td>The Peach State</td>\n",
              "      <td>I think a Typhoon just passed through here lol</td>\n",
              "      <td>1</td>\n",
              "    </tr>\n",
              "  </tbody>\n",
              "</table>\n",
              "</div>"
            ],
            "text/plain": [
              "         id             keyword             location  \\\n",
              "2128   3056              deaths  Mooseknuckle, Maine   \n",
              "2152   3089              deaths      the void, U.S.A   \n",
              "5052   7201  natural%20disaster               Canada   \n",
              "6047   8643            sinkhole                  NaN   \n",
              "6701   9598             thunder          Baydestrian   \n",
              "6798   9738             tragedy              houston   \n",
              "6913   9912             trouble         YA MOTHA BED   \n",
              "7050  10101             typhoon      The Peach State   \n",
              "\n",
              "                                                                                                                                                    text  \\\n",
              "2128          ÛÏ@LOLGOP: 2.2 cases of voter fraud a year. \\nWE NEED NEW LAWS!\\n\\n83 gun deaths a day. \\nWHO ACTUALLY FOLLOWS LAWS AMIRITE?\\n\\n#VRA50Û   \n",
              "2152               @HighQualityBird a reverse situation (lol I don't know 9/11?) where US civilian deaths were specifically utilized to make a political   \n",
              "5052                                          @Cali74142290 lol natural disaster/hospital crisis something is needed to get rid of some cast members....   \n",
              "6047                  MRW when a sinkhole opens up beneath my friends and I... #gif #funny #lol #comedy #iFunny #video #image #RT http://t.co/XiYdYfptru   \n",
              "6701  suddenly it's off &amp; on gloomy &amp; thunder so loud it shakes the windows? Not ever on the Bay Area. Miss me w/that lol http://t.co/x4eCGGvnSN   \n",
              "6798                                                                                                   @itss_selenaluna like a beautiful ass tragedy lol   \n",
              "6913                                                               @lucysforsale funny cause my dumb ass was the young one to get n trouble the most lol   \n",
              "7050                                                                                                      I think a Typhoon just passed through here lol   \n",
              "\n",
              "      target  \n",
              "2128       1  \n",
              "2152       1  \n",
              "5052       1  \n",
              "6047       1  \n",
              "6701       1  \n",
              "6798       1  \n",
              "6913       1  \n",
              "7050       1  "
            ]
          },
          "metadata": {
            "tags": []
          },
          "execution_count": 36
        }
      ]
    },
    {
      "cell_type": "code",
      "metadata": {
        "id": "h-94bYZht-kK",
        "colab_type": "code",
        "colab": {}
      },
      "source": [
        ""
      ],
      "execution_count": 0,
      "outputs": []
    }
  ]
}